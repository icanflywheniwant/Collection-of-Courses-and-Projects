{
 "cells": [
  {
   "cell_type": "markdown",
   "metadata": {},
   "source": [
    "# Network Data Science with NetworkX and Python"
   ]
  },
  {
   "cell_type": "markdown",
   "metadata": {},
   "source": [
    "## Load graphs from Excel spreadsheet files"
   ]
  },
  {
   "cell_type": "code",
   "execution_count": 1,
   "metadata": {},
   "outputs": [],
   "source": [
    "import pandas as pd"
   ]
  },
  {
   "cell_type": "code",
   "execution_count": 4,
   "metadata": {},
   "outputs": [],
   "source": [
    "link = (\"https://github.com/dnllvrvz/Social-Network-Dataset/\"\n",
    "        \"raw/master/Social%20Network%20Dataset.xlsx\")"
   ]
  },
  {
   "cell_type": "code",
   "execution_count": 5,
   "metadata": {},
   "outputs": [],
   "source": [
    "network_data = pd.read_excel(link, sheet_name=['Elements', 'Connections'])"
   ]
  },
  {
   "cell_type": "code",
   "execution_count": 6,
   "metadata": {},
   "outputs": [],
   "source": [
    "elements_data = network_data['Elements'] # node list\n",
    "connections_data = network_data['Connections'] # edge list"
   ]
  },
  {
   "cell_type": "code",
   "execution_count": 7,
   "metadata": {},
   "outputs": [],
   "source": [
    "import networkx as nx"
   ]
  },
  {
   "cell_type": "code",
   "execution_count": 8,
   "metadata": {},
   "outputs": [],
   "source": [
    "edge_cols = ['Type', 'Weight', 'When']\n",
    "\n",
    "graph = nx.convert_matrix.from_pandas_edgelist(connections_data,\n",
    "                                               source='From',\n",
    "                                               target='To',\n",
    "                                               edge_attr=edge_cols)"
   ]
  },
  {
   "cell_type": "code",
   "execution_count": 9,
   "metadata": {},
   "outputs": [
    {
     "name": "stderr",
     "output_type": "stream",
     "text": [
      "/var/folders/mf/r664td9s2dl_lprk6yy30fx80000gn/T/ipykernel_23424/512057929.py:2: DeprecationWarning: Sampling from a set deprecated\n",
      "since Python 3.9 and will be removed in a subsequent version.\n",
      "  sampled_edges = sample(graph.edges, 10)\n"
     ]
    }
   ],
   "source": [
    "from random import sample\n",
    "sampled_edges = sample(graph.edges, 10)"
   ]
  },
  {
   "cell_type": "code",
   "execution_count": 10,
   "metadata": {},
   "outputs": [
    {
     "data": {
      "text/plain": [
       "{'Type': nan, 'Weight': 0.6, 'When': 2015.0}"
      ]
     },
     "execution_count": 10,
     "metadata": {},
     "output_type": "execute_result"
    }
   ],
   "source": [
    "graph.edges[sampled_edges[0]]"
   ]
  },
  {
   "cell_type": "code",
   "execution_count": 11,
   "metadata": {},
   "outputs": [],
   "source": [
    "node_dict = elements_data.set_index('Label').to_dict(orient='index')\n",
    "nx.set_node_attributes(graph, node_dict)"
   ]
  },
  {
   "cell_type": "code",
   "execution_count": 12,
   "metadata": {},
   "outputs": [
    {
     "name": "stderr",
     "output_type": "stream",
     "text": [
      "/var/folders/mf/r664td9s2dl_lprk6yy30fx80000gn/T/ipykernel_23424/525374699.py:1: DeprecationWarning: Sampling from a set deprecated\n",
      "since Python 3.9 and will be removed in a subsequent version.\n",
      "  sampled_nodes = sample(graph.nodes, 10)\n"
     ]
    }
   ],
   "source": [
    "sampled_nodes = sample(graph.nodes, 10)"
   ]
  },
  {
   "cell_type": "code",
   "execution_count": 13,
   "metadata": {},
   "outputs": [
    {
     "data": {
      "text/plain": [
       "{'Type': 'Student', 'School (ID)': 67, 'Answered the form': 'No'}"
      ]
     },
     "execution_count": 13,
     "metadata": {},
     "output_type": "execute_result"
    }
   ],
   "source": [
    "graph.nodes[sampled_nodes[0]]"
   ]
  }
 ],
 "metadata": {
  "kernelspec": {
   "display_name": "ds310",
   "language": "python",
   "name": "python3"
  },
  "language_info": {
   "codemirror_mode": {
    "name": "ipython",
    "version": 3
   },
   "file_extension": ".py",
   "mimetype": "text/x-python",
   "name": "python",
   "nbconvert_exporter": "python",
   "pygments_lexer": "ipython3",
   "version": "3.10.9"
  },
  "vscode": {
   "interpreter": {
    "hash": "9180382d1d293cd0ee174aaeeba1adef5ae9abef75c7d5ca9d9e15d507d2790d"
   }
  }
 },
 "nbformat": 4,
 "nbformat_minor": 4
}
