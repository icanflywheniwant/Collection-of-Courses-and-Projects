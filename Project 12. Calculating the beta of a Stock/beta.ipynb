{
 "cells": [
  {
   "attachments": {},
   "cell_type": "markdown",
   "metadata": {},
   "source": [
    "# Calculating the Beta of a Stock"
   ]
  },
  {
   "attachments": {},
   "cell_type": "markdown",
   "metadata": {},
   "source": [
    "### Please change the below Variables as needed"
   ]
  },
  {
   "cell_type": "code",
   "execution_count": 1,
   "metadata": {},
   "outputs": [],
   "source": [
    "market = '^IXIC' # You may change the index by changing to another index from here --> https://finance.yahoo.com/world-indices/\n",
    "years = 1 # For eg --> If you want the Beta for 1 Month you may change this variable to 1/12 OR If you want the Beta (1 Year) then set years = 1\n",
    "trading_days = 252 # This is the actual number of average trading days in a year. You may change this if you so want to (not recommended)"
   ]
  },
  {
   "attachments": {},
   "cell_type": "markdown",
   "metadata": {},
   "source": [
    "### Calculating the Beta of a Stock"
   ]
  },
  {
   "cell_type": "code",
   "execution_count": 2,
   "metadata": {},
   "outputs": [
    {
     "name": "stdout",
     "output_type": "stream",
     "text": [
      "Calculating the Beta of: BRZE\n",
      "[*********************100%***********************]  1 of 1 completed\n",
      "[*********************100%***********************]  1 of 1 completed\n",
      "Beta =  1.8232624545952887\n"
     ]
    }
   ],
   "source": [
    "import numpy as np\n",
    "import pandas as pd\n",
    "from pandas_datareader import data as pdr\n",
    "import datetime\n",
    "import yfinance as yf\n",
    "\n",
    "yf.pdr_override()\n",
    "ticker = ['']\n",
    "\n",
    "def tickerName():\n",
    "    stock = input(\"Enter Ticker Code\\n\")\n",
    "    print(\"Calculating the Beta of:\", stock)\n",
    "\n",
    "    tickers = [stock, market]\n",
    "    data = pd.DataFrame()\n",
    "    for t in tickers:\n",
    "        data[t] = pdr.get_data_yahoo(t, start=datetime.datetime.now() - datetime.timedelta(days=years*365), end=datetime.datetime.now())['Close']\n",
    "    returns = np.log(data / data.shift(1))\n",
    "    covariance = returns.cov() * trading_days\n",
    "    covariance_market = covariance.iloc[0, 1]\n",
    "    market_variance = returns.iloc[:, 1].var() * trading_days\n",
    "    beta = covariance_market / market_variance\n",
    "    print(\"Beta = \", beta)\n",
    "\n",
    "tickerName()"
   ]
  },
  {
   "attachments": {},
   "cell_type": "markdown",
   "metadata": {},
   "source": [
    "## Disclaimer\n",
    "\n",
    "### This is meant for educational purposes and is not to be construed as any form of financial advice. Please conduct your own research and due diligence before trading/investing in the financial markets. All investments are subject to market risk. "
   ]
  }
 ],
 "metadata": {
  "kernelspec": {
   "display_name": "ds310",
   "language": "python",
   "name": "python3"
  },
  "language_info": {
   "codemirror_mode": {
    "name": "ipython",
    "version": 3
   },
   "file_extension": ".py",
   "mimetype": "text/x-python",
   "name": "python",
   "nbconvert_exporter": "python",
   "pygments_lexer": "ipython3",
   "version": "3.10.9"
  },
  "orig_nbformat": 4,
  "vscode": {
   "interpreter": {
    "hash": "9180382d1d293cd0ee174aaeeba1adef5ae9abef75c7d5ca9d9e15d507d2790d"
   }
  }
 },
 "nbformat": 4,
 "nbformat_minor": 2
}
