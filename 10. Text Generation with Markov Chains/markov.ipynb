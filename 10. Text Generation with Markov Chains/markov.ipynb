{
 "cells": [
  {
   "cell_type": "markdown",
   "metadata": {},
   "source": [
    "Text Generation with Markov Chains in Python\n",
    "============================================"
   ]
  },
  {
   "cell_type": "code",
   "execution_count": 1,
   "metadata": {},
   "outputs": [
    {
     "name": "stdout",
     "output_type": "stream",
     "text": [
      "THE GOLDEN BIRD\n",
      "\n",
      "A certain king had a beautiful garden, and in the garden stood a tree\n",
      "which bore golden apples. These apples were always counted, and about\n",
      "the time when they began to grow ripe it was found that every night one\n",
      "of them was gone. The king became very angry at this, and ordered the\n",
      "gardener to keep watch all night under the tree. The gardener set his\n",
      "eldest son to watch; but about twelve o’clock he fell asleep, and in\n",
      "the morning another of the apples was missing. Then the second\n"
     ]
    }
   ],
   "source": [
    "files = ['text/grimm_tales.txt']\n",
    "\n",
    "text = \"\"\n",
    "for f in files:\n",
    "    with open(f, 'r') as f:\n",
    "        text += f.read()\n",
    "print(text[:500])"
   ]
  },
  {
   "cell_type": "markdown",
   "metadata": {},
   "source": [
    "Weather as a Markov Chain\n",
    "-------------------------\n",
    "\n",
    "![alt text](images/markov_weather.png \"Weather\")\n",
    "\n",
    "Matrix representation (rows are current state, columns are next state):\n",
    "\n",
    "| | Sunny | Cloudy | Rainy |\n",
    "| --- | --- | --- | --- |\n",
    "| **Sunny** | 0.6 | 0.1 | 0.3 |\n",
    "| **Cloudy** | 0.3 | 0.3 | 0.4 |\n",
    "| **Rainy** | 0.3 | 0.2 | 0.5 |\n"
   ]
  },
  {
   "cell_type": "markdown",
   "metadata": {},
   "source": [
    "Text as a Markov Chain\n",
    "----------------------\n",
    "\n",
    "**The cat ran over the dog.**\n",
    "\n",
    "![alt text](images/markov_text1.png \"Text\")\n",
    "\n",
    "Matrix representation (rows are current state, columns are next state):\n",
    "\n",
    "| | the | cat | ran | over | dog | . |\n",
    "| --- | --- | --- | --- | --- | --- | --- |\n",
    "| **the** | 0 | 0.5 | 0 | 0 | 0.5 | 0 |\n",
    "| **cat** | 0 | 0 | 1 | 0 | 0 | 0 |\n",
    "| **ran** | 0 | 0 | 0 | 1 | 0 | 0 |\n",
    "| **over** | 1 | 0 | 0 | 0 | 0 | 0 |\n",
    "| **dog** | 0 | 0 | 0 | 0 | 0 | 1 |\n",
    "| **.** | 0 | 0 | 0 | 0 | 0 | 1 |\n",
    "\n"
   ]
  },
  {
   "cell_type": "markdown",
   "metadata": {},
   "source": [
    "Define states as the distinct word tokens"
   ]
  },
  {
   "cell_type": "code",
   "execution_count": null,
   "metadata": {},
   "outputs": [],
   "source": []
  },
  {
   "cell_type": "markdown",
   "metadata": {},
   "source": [
    "Define transition matrix"
   ]
  },
  {
   "cell_type": "code",
   "execution_count": null,
   "metadata": {},
   "outputs": [],
   "source": []
  },
  {
   "cell_type": "markdown",
   "metadata": {},
   "source": [
    "Count transitions and fill in transition matrix"
   ]
  },
  {
   "cell_type": "code",
   "execution_count": null,
   "metadata": {},
   "outputs": [],
   "source": []
  },
  {
   "cell_type": "markdown",
   "metadata": {},
   "source": [
    "Generate new text"
   ]
  },
  {
   "cell_type": "code",
   "execution_count": null,
   "metadata": {},
   "outputs": [],
   "source": []
  },
  {
   "cell_type": "markdown",
   "metadata": {},
   "source": [
    "k-Word Markov Chain\n",
    "-------------------\n",
    "\n",
    "**The cat ran over the dog.**\n",
    "\n",
    "![alt text](images/markov_text2.png \"Text\")\n",
    "\n",
    "Matrix representation (rows are current state, columns are next state):\n",
    "\n",
    "| | the cat | cat ran | ran over | over the | the dog | dog. |\n",
    "| --- | --- | --- | --- | --- | --- | --- |\n",
    "| **the cat**  | 0 | 1 | 0 | 0 | 0 | 0 |\n",
    "| **cat ran**  | 0 | 0 | 1 | 0 | 0 | 0 |\n",
    "| **ran over** | 0 | 0 | 0 | 1 | 0 | 0 |\n",
    "| **over the** | 0 | 0 | 0 | 0 | 1 | 0 |\n",
    "| **the dog**  | 0 | 0 | 0 | 0 | 0 | 1 |\n",
    "| **dog.**     | 0 | 0 | 0 | 0 | 0 | 1 |\n",
    "\n"
   ]
  },
  {
   "cell_type": "markdown",
   "metadata": {},
   "source": [
    "Define states as consecutive token pairs"
   ]
  },
  {
   "cell_type": "code",
   "execution_count": null,
   "metadata": {},
   "outputs": [],
   "source": []
  },
  {
   "cell_type": "markdown",
   "metadata": {},
   "source": [
    "Define and fill transition matrix"
   ]
  },
  {
   "cell_type": "code",
   "execution_count": null,
   "metadata": {},
   "outputs": [],
   "source": []
  },
  {
   "cell_type": "markdown",
   "metadata": {},
   "source": [
    "Generate new text"
   ]
  },
  {
   "cell_type": "code",
   "execution_count": null,
   "metadata": {},
   "outputs": [],
   "source": []
  },
  {
   "cell_type": "code",
   "execution_count": null,
   "metadata": {},
   "outputs": [],
   "source": []
  }
 ],
 "metadata": {
  "kernelspec": {
   "display_name": "ds309:Python",
   "language": "python",
   "name": "conda-env-ds309-py"
  },
  "language_info": {
   "codemirror_mode": {
    "name": "ipython",
    "version": 3
   },
   "file_extension": ".py",
   "mimetype": "text/x-python",
   "name": "python",
   "nbconvert_exporter": "python",
   "pygments_lexer": "ipython3",
   "version": "3.9.16"
  }
 },
 "nbformat": 4,
 "nbformat_minor": 4
}
