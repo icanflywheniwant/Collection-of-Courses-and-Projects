{
 "cells": [
  {
   "cell_type": "markdown",
   "metadata": {},
   "source": [
    "Text Generation with Markov Chains in Python\n",
    "============================================"
   ]
  },
  {
   "cell_type": "code",
   "execution_count": 1,
   "metadata": {},
   "outputs": [
    {
     "name": "stdout",
     "output_type": "stream",
     "text": [
      "THE GOLDEN BIRD\n",
      "\n",
      "A certain king had a beautiful garden, and in the garden stood a tree\n",
      "which bore golden apples. These apples were always counted, and about\n",
      "the time when they began to grow ripe it was found that every night one\n",
      "of them was gone. The king became very angry at this, and ordered the\n",
      "gardener to keep watch all night under the tree. The gardener set his\n",
      "eldest son to watch; but about twelve o’clock he fell asleep, and in\n",
      "the morning another of the apples was missing. Then the second\n"
     ]
    }
   ],
   "source": [
    "files = ['text/grimm_tales.txt']\n",
    "\n",
    "text = \"\"\n",
    "for f in files:\n",
    "    with open(f, 'r') as f:\n",
    "        text += f.read()\n",
    "print(text[:500])"
   ]
  },
  {
   "cell_type": "markdown",
   "metadata": {},
   "source": [
    "Weather as a Markov Chain\n",
    "-------------------------\n",
    "\n",
    "![alt text](images/markov_weather.png \"Weather\")\n",
    "\n",
    "Matrix representation (rows are current state, columns are next state):\n",
    "\n",
    "| | Sunny | Cloudy | Rainy |\n",
    "| --- | --- | --- | --- |\n",
    "| **Sunny** | 0.6 | 0.1 | 0.3 |\n",
    "| **Cloudy** | 0.3 | 0.3 | 0.4 |\n",
    "| **Rainy** | 0.3 | 0.2 | 0.5 |\n"
   ]
  },
  {
   "cell_type": "markdown",
   "metadata": {},
   "source": [
    "Text as a Markov Chain\n",
    "----------------------\n",
    "\n",
    "**The cat ran over the dog.**\n",
    "\n",
    "![alt text](images/markov_text1.png \"Text\")\n",
    "\n",
    "Matrix representation (rows are current state, columns are next state):\n",
    "\n",
    "| | the | cat | ran | over | dog | . |\n",
    "| --- | --- | --- | --- | --- | --- | --- |\n",
    "| **the** | 0 | 0.5 | 0 | 0 | 0.5 | 0 |\n",
    "| **cat** | 0 | 0 | 1 | 0 | 0 | 0 |\n",
    "| **ran** | 0 | 0 | 0 | 1 | 0 | 0 |\n",
    "| **over** | 1 | 0 | 0 | 0 | 0 | 0 |\n",
    "| **dog** | 0 | 0 | 0 | 0 | 0 | 1 |\n",
    "| **.** | 0 | 0 | 0 | 0 | 0 | 1 |\n",
    "\n"
   ]
  },
  {
   "cell_type": "markdown",
   "metadata": {},
   "source": [
    "Define states as the distinct word tokens"
   ]
  },
  {
   "cell_type": "code",
   "execution_count": 2,
   "metadata": {},
   "outputs": [],
   "source": [
    "import re\n",
    "text = re.sub(\"[^A-z,.!?'\\n ]+\", \"\", text)\n",
    "text = re.sub(\"([,.!?])\", r\" \\1 \", text)\n",
    "\n",
    "tokens = text.lower().split()\n",
    "distinct_states = list(set(tokens))"
   ]
  },
  {
   "cell_type": "markdown",
   "metadata": {},
   "source": [
    "Define transition matrix"
   ]
  },
  {
   "cell_type": "code",
   "execution_count": 3,
   "metadata": {},
   "outputs": [],
   "source": [
    "from scipy.sparse import csr_matrix\n",
    "m = csr_matrix(\n",
    "    (len(distinct_states), len(distinct_states)),\n",
    "    dtype = int\n",
    ")\n",
    "\n",
    "state_index = dict(\n",
    "    [(state, idx_num) for idx_num, state in enumerate(distinct_states)]\n",
    ")"
   ]
  },
  {
   "cell_type": "markdown",
   "metadata": {},
   "source": [
    "Count transitions and fill in transition matrix"
   ]
  },
  {
   "cell_type": "code",
   "execution_count": 4,
   "metadata": {},
   "outputs": [
    {
     "name": "stderr",
     "output_type": "stream",
     "text": [
      "/home/studio-lab-user/.conda/envs/ds309/lib/python3.9/site-packages/scipy/sparse/_index.py:103: SparseEfficiencyWarning: Changing the sparsity structure of a csr_matrix is expensive. lil_matrix is more efficient.\n",
      "  self._set_intXint(row, col, x.flat[0])\n"
     ]
    }
   ],
   "source": [
    "for i in range(len(tokens)-1):\n",
    "    row = state_index[tokens[i]]\n",
    "    col = state_index[tokens[i+1]]\n",
    "    m[row,col] += 1"
   ]
  },
  {
   "cell_type": "markdown",
   "metadata": {},
   "source": [
    "Generate new text"
   ]
  },
  {
   "cell_type": "code",
   "execution_count": 5,
   "metadata": {},
   "outputs": [
    {
     "name": "stdout",
     "output_type": "stream",
     "text": [
      "Art the cat climbed up here is not see who shall die, and then they will kill the young man can imagine that the cook my stomach, with a pig by the fish darted straight on the forest, said he arose she felt even though he still upon their child.\n",
      "\n",
      "And benches, now to herself home to no doubt at last rays of four brothers, half so long sought you have been to your pipe and then he willingly take it was that the garden of land, wishing to himself across the old woman was so sorrowful but when the gold chain in the king has a little tailor he rode.\n",
      "\n",
      "The blue sky, and the time in, set out together how he took off the others went into but when she did i would sell?\n",
      "\n",
      "\n"
     ]
    }
   ],
   "source": [
    "import numpy as np\n",
    "\n",
    "start_state_index = np.random.randint(len(distinct_states))\n",
    "state = distinct_states[start_state_index]\n",
    "num_sentences = 0\n",
    "output = state.capitalize()\n",
    "capitalize = False\n",
    "\n",
    "\n",
    "while num_sentences < 3: \n",
    "    \n",
    "    row = m[state_index[state], :]\n",
    "    probabilites = row / row.sum()\n",
    "    probabilites = probabilites.toarray()[0]\n",
    "    \n",
    "    next_state_index = np.random.choice(\n",
    "        len(distinct_states), \n",
    "        1,\n",
    "        p = probabilites\n",
    "    )\n",
    "    next_state = distinct_states[next_state_index[0]]\n",
    "    \n",
    "    if next_state in ('.', '!', '?'):\n",
    "        output += next_state + '\\n\\n'\n",
    "        capitalize = True\n",
    "        num_sentences += 1\n",
    "    elif next_state == \",\":\n",
    "        output += next_state\n",
    "    else:\n",
    "        if capitalize:\n",
    "            output += next_state.capitalize()\n",
    "            capitalize = False\n",
    "        else:\n",
    "            output += \" \" + next_state\n",
    "    \n",
    "    state = next_state\n",
    "    \n",
    "print(output)"
   ]
  },
  {
   "cell_type": "markdown",
   "metadata": {},
   "source": [
    "k-Word Markov Chain\n",
    "-------------------\n",
    "\n",
    "**The cat ran over the dog.**\n",
    "\n",
    "![alt text](images/markov_text2.png \"Text\")\n",
    "\n",
    "Matrix representation (rows are current state, columns are next state):\n",
    "\n",
    "| | the cat | cat ran | ran over | over the | the dog | dog. |\n",
    "| --- | --- | --- | --- | --- | --- | --- |\n",
    "| **the cat**  | 0 | 1 | 0 | 0 | 0 | 0 |\n",
    "| **cat ran**  | 0 | 0 | 1 | 0 | 0 | 0 |\n",
    "| **ran over** | 0 | 0 | 0 | 1 | 0 | 0 |\n",
    "| **over the** | 0 | 0 | 0 | 0 | 1 | 0 |\n",
    "| **the dog**  | 0 | 0 | 0 | 0 | 0 | 1 |\n",
    "| **dog.**     | 0 | 0 | 0 | 0 | 0 | 1 |\n",
    "\n"
   ]
  },
  {
   "cell_type": "markdown",
   "metadata": {},
   "source": [
    "\n",
    "Define states as consecutive token pairs"
   ]
  },
  {
   "cell_type": "code",
   "execution_count": 6,
   "metadata": {},
   "outputs": [],
   "source": [
    "k = 3\n",
    "tokens = text.lower().split()\n",
    "states = [tuple(tokens[i:i+k]) for i in range(len(tokens)-k+1)]\n",
    "distinct_states = list(set(states))"
   ]
  },
  {
   "cell_type": "markdown",
   "metadata": {},
   "source": [
    "Define and fill transition matrix"
   ]
  },
  {
   "cell_type": "code",
   "execution_count": null,
   "metadata": {},
   "outputs": [],
   "source": [
    "from scipy.sparse import csr_matrix\n",
    "m = csr_matrix(\n",
    "    (len(distinct_states), len(distinct_states)),\n",
    "    dtype = int\n",
    ")\n",
    "\n",
    "state_index = dict(\n",
    "    [(state, idx_num) for idx_num, state in enumerate(distinct_states)]\n",
    ")\n",
    "\n",
    "for i in range(len(tokens)-k):\n",
    "    state = tuple(tokens[i:i+k])\n",
    "    next_state = tuple(tokens[i+1:i+1+k])\n",
    "    row = state_index[state]\n",
    "    col = state_index[next_state]\n",
    "    m[row,col] += 1"
   ]
  },
  {
   "cell_type": "markdown",
   "metadata": {},
   "source": [
    "Generate new text"
   ]
  },
  {
   "cell_type": "code",
   "execution_count": null,
   "metadata": {},
   "outputs": [],
   "source": [
    "import numpy as np\n",
    "\n",
    "start_state_index = np.random.randint(len(distinct_states))\n",
    "state = distinct_states[start_state_index]\n",
    "num_sentences = 0\n",
    "output = ' '.join(state).capitalize()\n",
    "capitalize = False\n",
    "\n",
    "\n",
    "while num_sentences < 5: \n",
    "    \n",
    "    row = m[state_index[state], :]\n",
    "    probabilites = row / row.sum()\n",
    "    probabilites = probabilites.toarray()[0]\n",
    "    \n",
    "    next_state_index = np.random.choice(\n",
    "        len(distinct_states), \n",
    "        1,\n",
    "        p = probabilites\n",
    "    )\n",
    "    next_state = distinct_states[next_state_index[0]]\n",
    "    \n",
    "    if next_state[-1] in ('.', '!', '?'):\n",
    "        output += next_state[-1] + '\\n\\n'\n",
    "        capitalize = True\n",
    "        num_sentences += 1\n",
    "    elif next_state[-1] == \",\":\n",
    "        output += next_state[-1]\n",
    "    else:\n",
    "        if capitalize:\n",
    "            output += next_state[-1].capitalize()\n",
    "            capitalize = False\n",
    "        else:\n",
    "            output += \" \" + next_state[-1]\n",
    "    \n",
    "    state = next_state\n",
    "    \n",
    "print(output)"
   ]
  },
  {
   "cell_type": "code",
   "execution_count": null,
   "metadata": {},
   "outputs": [],
   "source": []
  },
  {
   "cell_type": "code",
   "execution_count": null,
   "metadata": {},
   "outputs": [],
   "source": []
  }
 ],
 "metadata": {
  "kernelspec": {
   "display_name": "ds309:Python",
   "language": "python",
   "name": "conda-env-ds309-py"
  },
  "language_info": {
   "codemirror_mode": {
    "name": "ipython",
    "version": 3
   },
   "file_extension": ".py",
   "mimetype": "text/x-python",
   "name": "python",
   "nbconvert_exporter": "python",
   "pygments_lexer": "ipython3",
   "version": "3.9.16"
  }
 },
 "nbformat": 4,
 "nbformat_minor": 4
}
