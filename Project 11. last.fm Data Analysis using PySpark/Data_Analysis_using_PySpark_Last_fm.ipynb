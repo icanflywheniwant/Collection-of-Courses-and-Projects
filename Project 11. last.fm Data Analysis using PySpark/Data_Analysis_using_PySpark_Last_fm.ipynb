{
  "nbformat": 4,
  "nbformat_minor": 0,
  "metadata": {
    "colab": {
      "provenance": [],
      "include_colab_link": true
    },
    "kernelspec": {
      "name": "python3",
      "display_name": "Python 3"
    }
  },
  "cells": [
    {
      "cell_type": "markdown",
      "metadata": {
        "id": "view-in-github",
        "colab_type": "text"
      },
      "source": [
        "<a href=\"https://colab.research.google.com/github/realgauravmehta/Collection-of-Projects/blob/main/realgauravmehta/Collection-of-Projects/11.%20Data%20Analysis%20using%20Pyspark%20on%20last.fm%20Streaming%20Data/Data_Analysis_using_PySpark_Last_fm.ipynb\" target=\"_parent\"><img src=\"https://colab.research.google.com/assets/colab-badge.svg\" alt=\"Open In Colab\"/></a>"
      ]
    },
    {
      "cell_type": "markdown",
      "metadata": {
        "id": "jPyDpDqvZuLo"
      },
      "source": [
        "# **Data Analysis using PySpark**"
      ]
    },
    {
      "cell_type": "markdown",
      "metadata": {
        "id": "F2YNhXuUwGNl"
      },
      "source": [
        "### Let's mount the google drive "
      ]
    },
    {
      "cell_type": "code",
      "metadata": {
        "id": "MmQC7J5cvkzE",
        "colab": {
          "base_uri": "https://localhost:8080/"
        },
        "outputId": "95a4faf5-f454-46bf-a3c1-ea5cc4f7def7"
      },
      "source": [
        "from google.colab import drive\n",
        "drive.mount('/content/drive')"
      ],
      "execution_count": 1,
      "outputs": [
        {
          "output_type": "stream",
          "name": "stdout",
          "text": [
            "Drive already mounted at /content/drive; to attempt to forcibly remount, call drive.mount(\"/content/drive\", force_remount=True).\n"
          ]
        }
      ]
    },
    {
      "cell_type": "markdown",
      "metadata": {
        "id": "cs9EInKyWicZ"
      },
      "source": [
        "# Task 1 : \n",
        "Installing pyspark module"
      ]
    },
    {
      "cell_type": "code",
      "metadata": {
        "id": "LJq2nzUKWujx",
        "colab": {
          "base_uri": "https://localhost:8080/"
        },
        "outputId": "71deb72d-87c5-4dd0-d0f8-facf00392a63"
      },
      "source": [
        "!pip install pyspark"
      ],
      "execution_count": 2,
      "outputs": [
        {
          "output_type": "stream",
          "name": "stdout",
          "text": [
            "Looking in indexes: https://pypi.org/simple, https://us-python.pkg.dev/colab-wheels/public/simple/\n",
            "Requirement already satisfied: pyspark in /usr/local/lib/python3.8/dist-packages (3.3.2)\n",
            "Requirement already satisfied: py4j==0.10.9.5 in /usr/local/lib/python3.8/dist-packages (from pyspark) (0.10.9.5)\n"
          ]
        }
      ]
    },
    {
      "cell_type": "markdown",
      "metadata": {
        "id": "dVNAlw2jWiWb"
      },
      "source": [
        "Importing the modules "
      ]
    },
    {
      "cell_type": "code",
      "metadata": {
        "id": "gS3YIWJiW7I3"
      },
      "source": [
        "from pyspark.sql import SparkSession\n",
        "from pyspark.sql.functions import count, desc , col, max , struct\n",
        "import matplotlib.pyplot as plts"
      ],
      "execution_count": 3,
      "outputs": []
    },
    {
      "cell_type": "markdown",
      "metadata": {
        "id": "RKuIUYLwSkNP"
      },
      "source": [
        "creating spark session"
      ]
    },
    {
      "cell_type": "code",
      "metadata": {
        "id": "XXSZBvRgSnCN",
        "cellView": "both"
      },
      "source": [
        "spark = SparkSession.builder.appName('spark_app').getOrCreate()"
      ],
      "execution_count": 4,
      "outputs": []
    },
    {
      "cell_type": "markdown",
      "metadata": {
        "id": "vv_SKqr8T9mT"
      },
      "source": [
        "# Task 2 : \n",
        "importing the *Listenings.csv* file: "
      ]
    },
    {
      "cell_type": "code",
      "metadata": {
        "id": "gK22lJDRTuKY"
      },
      "source": [
        "listening_csv_path = '/content/drive/MyDrive/dataset/listenings.csv'\n",
        "listening_df = spark.read.format('csv').option('inferSchema',True).option('header',True).load(listening_csv_path)"
      ],
      "execution_count": 5,
      "outputs": []
    },
    {
      "cell_type": "markdown",
      "metadata": {
        "id": "s1i6KVshykdn"
      },
      "source": [
        "let's check the data:"
      ]
    },
    {
      "cell_type": "code",
      "metadata": {
        "id": "5Ji0zViUyjUE",
        "colab": {
          "base_uri": "https://localhost:8080/"
        },
        "outputId": "80e89ee0-3df4-48c4-e716-49197f81988a"
      },
      "source": [
        "listening_df.show()"
      ],
      "execution_count": 6,
      "outputs": [
        {
          "output_type": "stream",
          "name": "stdout",
          "text": [
            "+-----------+-------------+--------------------+---------------+--------------------+\n",
            "|    user_id|         date|               track|         artist|               album|\n",
            "+-----------+-------------+--------------------+---------------+--------------------+\n",
            "|000Silenced|1299680100000|           Price Tag|       Jessie J|         Who You Are|\n",
            "|000Silenced|1299679920000|Price Tag (Acoust...|       Jessie J|           Price Tag|\n",
            "|000Silenced|1299679440000|Be Mine! (Ballad ...|          Robyn|            Be Mine!|\n",
            "|000Silenced|1299679200000|            Acapella|          Kelis|            Acapella|\n",
            "|000Silenced|1299675660000|   I'm Not Invisible|      The Tease|   I'm Not Invisible|\n",
            "|000Silenced|1297511400000|Bounce (Feat NORE...|       MSTRKRFT|         Fist of God|\n",
            "|000Silenced|1294498440000|Don't Stop The Mu...|        Rihanna|Addicted 2 Bassli...|\n",
            "|000Silenced|1292438340000|               ObZen|      Meshuggah|               ObZen|\n",
            "|000Silenced|1292437740000|   Yama's Messengers|         Gojira|The Way of All Flesh|\n",
            "|000Silenced|1292436360000|On the Brink of E...|   Napalm Death|Time Waits For No...|\n",
            "|000Silenced|1292436360000|On the Brink of E...|   Napalm Death|Time Waits For No...|\n",
            "|000Silenced|1292435940000|        In Deference|   Napalm Death|      Smear Campaign|\n",
            "|000Silenced|1292434920000|      Post(?)organic|    Decapitated|Organic Hallucinosis|\n",
            "|000Silenced|1292434560000|        Mind Feeders|   Dom & Roland| No Strings Attached|\n",
            "|000Silenced|1292434320000|Necrosadistic War...|Cannibal Corpse|                Kill|\n",
            "|000Silenced|1292365560000|     Dance All Night|   Dom & Roland|          Chronology|\n",
            "|000Silenced|1292365260000|          Late Night|   Dom & Roland|          Chronology|\n",
            "|000Silenced|1292365020000|          Freak Seen|   Dom & Roland|          Chronology|\n",
            "|000Silenced|1292364720000|Paradrenasite (Hi...|   Dom & Roland|          Chronology|\n",
            "|000Silenced|1292364300000|               Rhino|   Dom & Roland|          Chronology|\n",
            "+-----------+-------------+--------------------+---------------+--------------------+\n",
            "only showing top 20 rows\n",
            "\n"
          ]
        }
      ]
    },
    {
      "cell_type": "markdown",
      "metadata": {
        "id": "HS6wd2d_woNC"
      },
      "source": [
        "let's delete useless columns:"
      ]
    },
    {
      "cell_type": "code",
      "metadata": {
        "id": "pIMzBAglwtNP"
      },
      "source": [
        "listening_df = listening_df.drop('date')"
      ],
      "execution_count": 7,
      "outputs": []
    },
    {
      "cell_type": "markdown",
      "metadata": {
        "id": "MwpJJeWa4qmn"
      },
      "source": [
        "drop the null rows:"
      ]
    },
    {
      "cell_type": "code",
      "metadata": {
        "id": "Botf6-Vb4uqs"
      },
      "source": [
        "listening_df = listening_df.na.drop()"
      ],
      "execution_count": 8,
      "outputs": []
    },
    {
      "cell_type": "markdown",
      "metadata": {
        "id": "tTN6jr3K4xkF"
      },
      "source": [
        "let's check the dataset again:"
      ]
    },
    {
      "cell_type": "code",
      "metadata": {
        "id": "JDp_rdEY40u3",
        "colab": {
          "base_uri": "https://localhost:8080/"
        },
        "outputId": "7021dbd9-5c07-4c48-d894-df9329eae339"
      },
      "source": [
        "listening_df.show()"
      ],
      "execution_count": 9,
      "outputs": [
        {
          "output_type": "stream",
          "name": "stdout",
          "text": [
            "+-----------+--------------------+---------------+--------------------+\n",
            "|    user_id|               track|         artist|               album|\n",
            "+-----------+--------------------+---------------+--------------------+\n",
            "|000Silenced|           Price Tag|       Jessie J|         Who You Are|\n",
            "|000Silenced|Price Tag (Acoust...|       Jessie J|           Price Tag|\n",
            "|000Silenced|Be Mine! (Ballad ...|          Robyn|            Be Mine!|\n",
            "|000Silenced|            Acapella|          Kelis|            Acapella|\n",
            "|000Silenced|   I'm Not Invisible|      The Tease|   I'm Not Invisible|\n",
            "|000Silenced|Bounce (Feat NORE...|       MSTRKRFT|         Fist of God|\n",
            "|000Silenced|Don't Stop The Mu...|        Rihanna|Addicted 2 Bassli...|\n",
            "|000Silenced|               ObZen|      Meshuggah|               ObZen|\n",
            "|000Silenced|   Yama's Messengers|         Gojira|The Way of All Flesh|\n",
            "|000Silenced|On the Brink of E...|   Napalm Death|Time Waits For No...|\n",
            "|000Silenced|On the Brink of E...|   Napalm Death|Time Waits For No...|\n",
            "|000Silenced|        In Deference|   Napalm Death|      Smear Campaign|\n",
            "|000Silenced|      Post(?)organic|    Decapitated|Organic Hallucinosis|\n",
            "|000Silenced|        Mind Feeders|   Dom & Roland| No Strings Attached|\n",
            "|000Silenced|Necrosadistic War...|Cannibal Corpse|                Kill|\n",
            "|000Silenced|     Dance All Night|   Dom & Roland|          Chronology|\n",
            "|000Silenced|          Late Night|   Dom & Roland|          Chronology|\n",
            "|000Silenced|          Freak Seen|   Dom & Roland|          Chronology|\n",
            "|000Silenced|Paradrenasite (Hi...|   Dom & Roland|          Chronology|\n",
            "|000Silenced|               Rhino|   Dom & Roland|          Chronology|\n",
            "+-----------+--------------------+---------------+--------------------+\n",
            "only showing top 20 rows\n",
            "\n"
          ]
        }
      ]
    },
    {
      "cell_type": "markdown",
      "metadata": {
        "id": "Z7nKCYoZltnv"
      },
      "source": [
        "let's see the schema: "
      ]
    },
    {
      "cell_type": "code",
      "metadata": {
        "id": "qVg1jt1OyWdh",
        "colab": {
          "base_uri": "https://localhost:8080/"
        },
        "outputId": "d7878424-0ea8-4fef-f4f7-ee270fb8dd5b"
      },
      "source": [
        "listening_df.printSchema()"
      ],
      "execution_count": 10,
      "outputs": [
        {
          "output_type": "stream",
          "name": "stdout",
          "text": [
            "root\n",
            " |-- user_id: string (nullable = true)\n",
            " |-- track: string (nullable = true)\n",
            " |-- artist: string (nullable = true)\n",
            " |-- album: string (nullable = true)\n",
            "\n"
          ]
        }
      ]
    },
    {
      "cell_type": "markdown",
      "metadata": {
        "id": "JMkQsQt2xSb5"
      },
      "source": [
        "let's see the shape of our dataframe: "
      ]
    },
    {
      "cell_type": "code",
      "metadata": {
        "id": "6POkV3YFmh6b",
        "colab": {
          "base_uri": "https://localhost:8080/"
        },
        "outputId": "be0f5572-5492-4dcf-b0b7-ad9187d961cf"
      },
      "source": [
        "shape = (listening_df.count(), len(listening_df.columns))\n",
        "print(shape)"
      ],
      "execution_count": 11,
      "outputs": [
        {
          "output_type": "stream",
          "name": "stdout",
          "text": [
            "(13758905, 4)\n"
          ]
        }
      ]
    },
    {
      "cell_type": "markdown",
      "metadata": {
        "id": "XMD0DhFl2FEJ"
      },
      "source": [
        "# Task 3:\n",
        "\n",
        "**Query #0:**\n",
        "select two columns: track and artist"
      ]
    },
    {
      "cell_type": "code",
      "metadata": {
        "id": "FZTdA5wn2TZy",
        "colab": {
          "base_uri": "https://localhost:8080/"
        },
        "outputId": "074cdbfa-0302-42cc-e56f-8866321091f1"
      },
      "source": [
        "q0 = listening_df.select('artist', 'track')\n",
        "q0.show()"
      ],
      "execution_count": 12,
      "outputs": [
        {
          "output_type": "stream",
          "name": "stdout",
          "text": [
            "+---------------+--------------------+\n",
            "|         artist|               track|\n",
            "+---------------+--------------------+\n",
            "|       Jessie J|           Price Tag|\n",
            "|       Jessie J|Price Tag (Acoust...|\n",
            "|          Robyn|Be Mine! (Ballad ...|\n",
            "|          Kelis|            Acapella|\n",
            "|      The Tease|   I'm Not Invisible|\n",
            "|       MSTRKRFT|Bounce (Feat NORE...|\n",
            "|        Rihanna|Don't Stop The Mu...|\n",
            "|      Meshuggah|               ObZen|\n",
            "|         Gojira|   Yama's Messengers|\n",
            "|   Napalm Death|On the Brink of E...|\n",
            "|   Napalm Death|On the Brink of E...|\n",
            "|   Napalm Death|        In Deference|\n",
            "|    Decapitated|      Post(?)organic|\n",
            "|   Dom & Roland|        Mind Feeders|\n",
            "|Cannibal Corpse|Necrosadistic War...|\n",
            "|   Dom & Roland|     Dance All Night|\n",
            "|   Dom & Roland|          Late Night|\n",
            "|   Dom & Roland|          Freak Seen|\n",
            "|   Dom & Roland|Paradrenasite (Hi...|\n",
            "|   Dom & Roland|               Rhino|\n",
            "+---------------+--------------------+\n",
            "only showing top 20 rows\n",
            "\n"
          ]
        }
      ]
    },
    {
      "cell_type": "markdown",
      "metadata": {
        "id": "QRcgXOFs2hjw"
      },
      "source": [
        "**Query #1**:\n",
        "\n",
        "Let's find all of the records of those users who have listened to ***Rihanna***"
      ]
    },
    {
      "cell_type": "code",
      "metadata": {
        "id": "ICyiTMVnppLw",
        "colab": {
          "base_uri": "https://localhost:8080/"
        },
        "outputId": "618c664a-c1b8-448c-f9ed-d60033add77d"
      },
      "source": [
        "q1 = listening_df.select('*').filter(listening_df.artist == 'Rihanna')\n",
        "q1.show()"
      ],
      "execution_count": 13,
      "outputs": [
        {
          "output_type": "stream",
          "name": "stdout",
          "text": [
            "+-----------+--------------------+-------+--------------------+\n",
            "|    user_id|               track| artist|               album|\n",
            "+-----------+--------------------+-------+--------------------+\n",
            "|000Silenced|Don't Stop The Mu...|Rihanna|Addicted 2 Bassli...|\n",
            "|000Silenced|           Disturbia|Rihanna|Good Girl Gone Ba...|\n",
            "|00williamsl|   Hatin On The Club|Rihanna|              Random|\n",
            "|00williamsl|   Hatin On The Club|Rihanna|              Random|\n",
            "|00williamsl|         Complicated|Rihanna|                Loud|\n",
            "|00williamsl|What's My Name (f...|Rihanna|                Loud|\n",
            "|00williamsl|Kanye West feat R...|Rihanna|                Loud|\n",
            "|    0502008|Only Girl (In the...|Rihanna|                Loud|\n",
            "|      0rdos|Pon De Replay (Re...|Rihanna|    Music of the Sun|\n",
            "|      0rdos|          Now I Know|Rihanna|    Music of the Sun|\n",
            "|      0rdos|There's a Thug in...|Rihanna|    Music of the Sun|\n",
            "|      0rdos|                Rush|Rihanna|    Music of the Sun|\n",
            "|      0rdos|              Let Me|Rihanna|    Music of the Sun|\n",
            "|      0rdos|    Music of the Sun|Rihanna|    Music of the Sun|\n",
            "|      0rdos|     Willing to Wait|Rihanna|    Music of the Sun|\n",
            "|      0rdos|       The Last Time|Rihanna|    Music of the Sun|\n",
            "|      0rdos|If It's Lovin' Th...|Rihanna|    Music of the Sun|\n",
            "|      0rdos|     Here I Go Again|Rihanna|    Music of the Sun|\n",
            "|      0rdos|       Pon de Replay|Rihanna|    Music of the Sun|\n",
            "|      0rdos|                 Cry|Rihanna|  Good Girl Gone Bad|\n",
            "+-----------+--------------------+-------+--------------------+\n",
            "only showing top 20 rows\n",
            "\n"
          ]
        }
      ]
    },
    {
      "cell_type": "markdown",
      "metadata": {
        "id": "I0IafeyvFU9O"
      },
      "source": [
        "**Query #2:**\n",
        "\n",
        "Let's find top 10 users who are fan of ***Rihanna***"
      ]
    },
    {
      "cell_type": "code",
      "metadata": {
        "id": "3-hM9kMm7JmI",
        "colab": {
          "base_uri": "https://localhost:8080/"
        },
        "outputId": "3fb5b85e-6c6c-473d-aa53-20e9c2eeb95e"
      },
      "source": [
        "q2 = listening_df.select('user_id').filter(listening_df.artist == 'Rihanna')\n",
        "q2.show()"
      ],
      "execution_count": 14,
      "outputs": [
        {
          "output_type": "stream",
          "name": "stdout",
          "text": [
            "+-----------+\n",
            "|    user_id|\n",
            "+-----------+\n",
            "|000Silenced|\n",
            "|000Silenced|\n",
            "|00williamsl|\n",
            "|00williamsl|\n",
            "|00williamsl|\n",
            "|00williamsl|\n",
            "|00williamsl|\n",
            "|    0502008|\n",
            "|      0rdos|\n",
            "|      0rdos|\n",
            "|      0rdos|\n",
            "|      0rdos|\n",
            "|      0rdos|\n",
            "|      0rdos|\n",
            "|      0rdos|\n",
            "|      0rdos|\n",
            "|      0rdos|\n",
            "|      0rdos|\n",
            "|      0rdos|\n",
            "|      0rdos|\n",
            "+-----------+\n",
            "only showing top 20 rows\n",
            "\n"
          ]
        }
      ]
    },
    {
      "cell_type": "markdown",
      "source": [
        "Group by user ID and create a new column count with User ID Aggregate count"
      ],
      "metadata": {
        "id": "RSA6NMMOklmy"
      }
    },
    {
      "cell_type": "code",
      "source": [
        "q2 = listening_df.select('user_id').filter(listening_df.artist == 'Rihanna').groupBy('user_id').agg(count('user_id').alias('count'))\n",
        "q2.show()"
      ],
      "metadata": {
        "colab": {
          "base_uri": "https://localhost:8080/"
        },
        "id": "v-FZNcnokLQW",
        "outputId": "a85c32e2-bf11-4ee8-fa92-f7b0c875eb8a"
      },
      "execution_count": 15,
      "outputs": [
        {
          "output_type": "stream",
          "name": "stdout",
          "text": [
            "+---------------+-----+\n",
            "|        user_id|count|\n",
            "+---------------+-----+\n",
            "|         BolaJA|    3|\n",
            "|    abbyquinlan|    1|\n",
            "|    abiprincess|    1|\n",
            "|    AndrewTerry|    2|\n",
            "|      aaronspud|    1|\n",
            "|       adamnmcc|    1|\n",
            "|      agentgypo|    1|\n",
            "|      Bauldrick|    1|\n",
            "|        boardy2|    3|\n",
            "|booksfromboxes_|    1|\n",
            "|AshvinaShegobin|    2|\n",
            "|       alexfack|    1|\n",
            "|    aliceoddity|    4|\n",
            "|    annie-bella|    6|\n",
            "|    backstabbed|    2|\n",
            "|    badboydanny|    2|\n",
            "|  Bambi-strokes|    1|\n",
            "|         bekari|    1|\n",
            "|AbigailVictoria|    1|\n",
            "| abovethewaves_|    1|\n",
            "+---------------+-----+\n",
            "only showing top 20 rows\n",
            "\n"
          ]
        }
      ]
    },
    {
      "cell_type": "markdown",
      "source": [
        "Sort by Descending Order"
      ],
      "metadata": {
        "id": "B0epr9QFkrBs"
      }
    },
    {
      "cell_type": "code",
      "source": [
        "q2 = listening_df.select('user_id').filter(listening_df.artist == 'Rihanna').groupBy('user_id').agg(count('user_id').alias('count')).orderBy(desc('count')).limit(10)\n",
        "q2.show()"
      ],
      "metadata": {
        "colab": {
          "base_uri": "https://localhost:8080/"
        },
        "id": "xAsUzq_LkuwM",
        "outputId": "9cb59169-ae12-413d-e3e1-7a41fa774397"
      },
      "execution_count": 16,
      "outputs": [
        {
          "output_type": "stream",
          "name": "stdout",
          "text": [
            "+---------------+-----+\n",
            "|        user_id|count|\n",
            "+---------------+-----+\n",
            "|        thiessu|  179|\n",
            "|    eyessetkyle|  166|\n",
            "|           adxx|  164|\n",
            "|missnumberthree|  156|\n",
            "|helloiamnatalie|  128|\n",
            "|          nmjnb|  124|\n",
            "|        AndyyyA|  123|\n",
            "|     BIGBANG186|  121|\n",
            "|     mixedvibes|  120|\n",
            "|       AndyKitt|  115|\n",
            "+---------------+-----+\n",
            "\n"
          ]
        }
      ]
    },
    {
      "cell_type": "markdown",
      "metadata": {
        "id": "hgAAl6aAcp41"
      },
      "source": [
        "**Query #3:**\n",
        "\n",
        "find top 10 famous tracks "
      ]
    },
    {
      "cell_type": "code",
      "metadata": {
        "id": "qlh3IUzfJ3_I",
        "colab": {
          "base_uri": "https://localhost:8080/"
        },
        "outputId": "512afe6c-eafe-4615-e4e9-410b6f2d0824"
      },
      "source": [
        "q3 = listening_df.select('artist','track').groupBy('artist', 'track').agg(count('*').alias('count')).orderBy(desc('count')).limit(10)\n",
        "q3.show()"
      ],
      "execution_count": 17,
      "outputs": [
        {
          "output_type": "stream",
          "name": "stdout",
          "text": [
            "+--------------+----------------+-----+\n",
            "|        artist|           track|count|\n",
            "+--------------+----------------+-----+\n",
            "| Justin Bieber|           Sorry| 3381|\n",
            "|Arctic Monkeys|Do I Wanna Know?| 2865|\n",
            "|      Bon Iver|     Skinny Love| 2836|\n",
            "|          Zayn|      PILLOWTALK| 2701|\n",
            "|   The Killers|   Mr Brightside| 2690|\n",
            "|       Rihanna|            Work| 2646|\n",
            "|      Bastille|         Pompeii| 2606|\n",
            "|Mumford & Sons| Little Lion Man| 2520|\n",
            "|Mumford & Sons|        The Cave| 2485|\n",
            "| Justin Bieber|   Love Yourself| 2481|\n",
            "+--------------+----------------+-----+\n",
            "\n"
          ]
        }
      ]
    },
    {
      "cell_type": "markdown",
      "metadata": {
        "id": "HqhPhQvjeXt0"
      },
      "source": [
        "**Query #4:**\n",
        "\n",
        "find top 10 famous tracks of ***Rihanna*** "
      ]
    },
    {
      "cell_type": "code",
      "metadata": {
        "id": "D_npmdh1ec8y",
        "colab": {
          "base_uri": "https://localhost:8080/"
        },
        "outputId": "49ef7176-76ef-4420-af69-f38b346a693e"
      },
      "source": [
        "q4 = listening_df.select('artist','track').filter(listening_df.artist == 'Rihanna').groupBy('artist','track').agg(count('*').alias('count')).orderBy(desc('count')).limit(10)\n",
        "q4.show()"
      ],
      "execution_count": 18,
      "outputs": [
        {
          "output_type": "stream",
          "name": "stdout",
          "text": [
            "+-------+--------------------+-----+\n",
            "| artist|               track|count|\n",
            "+-------+--------------------+-----+\n",
            "|Rihanna|                Work| 2646|\n",
            "|Rihanna|Only Girl (In the...| 1749|\n",
            "|Rihanna|We Found Love (fe...| 1575|\n",
            "|Rihanna|                 S&M| 1307|\n",
            "|Rihanna|            Rude Boy| 1303|\n",
            "|Rihanna|            Diamonds| 1224|\n",
            "|Rihanna|      Kiss it Better|  945|\n",
            "|Rihanna| Where Have You Been|  844|\n",
            "|Rihanna|Cheers (Drink to ...|  697|\n",
            "|Rihanna|           Needed Me|  679|\n",
            "+-------+--------------------+-----+\n",
            "\n"
          ]
        }
      ]
    },
    {
      "cell_type": "markdown",
      "metadata": {
        "id": "E6pgcH0p1ZXo"
      },
      "source": [
        "**Query #5:**\n",
        "\n",
        "find top 10 famous albums "
      ]
    },
    {
      "cell_type": "code",
      "metadata": {
        "id": "c5YHm6yKenE7",
        "colab": {
          "base_uri": "https://localhost:8080/"
        },
        "outputId": "7fcf4df3-31b5-481f-8f3f-928d8da20a3d"
      },
      "source": [
        "q5 = listening_df.select('artist','album').groupBy('artist', 'album').agg(count('*').alias('count')).orderBy(desc('count')).limit(10)\n",
        "q5.show()"
      ],
      "execution_count": 19,
      "outputs": [
        {
          "output_type": "stream",
          "name": "stdout",
          "text": [
            "+--------------------+--------------------+-----+\n",
            "|              artist|               album|count|\n",
            "+--------------------+--------------------+-----+\n",
            "|          Kanye West|   The Life Of Pablo|22310|\n",
            "|              The xx|                  xx|14195|\n",
            "|      Arctic Monkeys|                  AM|14090|\n",
            "|               alt-J|     An Awesome Wave|13635|\n",
            "|      Mumford & Sons|        Sigh No More|13543|\n",
            "|      Arctic Monkeys|Whatever People S...|12731|\n",
            "|            Bon Iver|            For Emma|11994|\n",
            "|              Grimes|          Art Angels|11655|\n",
            "|Florence + the Ma...|               Lungs|11362|\n",
            "|               Adele|                  21|11215|\n",
            "+--------------------+--------------------+-----+\n",
            "\n"
          ]
        }
      ]
    },
    {
      "cell_type": "markdown",
      "metadata": {
        "id": "YXev8HQ57bdq"
      },
      "source": [
        "# Task 4 :\n",
        "importing the ***genre.csv*** file:"
      ]
    },
    {
      "cell_type": "code",
      "metadata": {
        "id": "tpXSrYfu14PB"
      },
      "source": [
        "genre_csv_path = '/content/drive/MyDrive/dataset/genre.csv'\n",
        "genre_df = spark.read.format('csv').option('inferSchema',True).option('header',True).load(genre_csv_path)"
      ],
      "execution_count": 20,
      "outputs": []
    },
    {
      "cell_type": "markdown",
      "metadata": {
        "id": "aCHSo36W9RcP"
      },
      "source": [
        "let's check the data"
      ]
    },
    {
      "cell_type": "code",
      "metadata": {
        "id": "LJu4Ouz89O6_",
        "colab": {
          "base_uri": "https://localhost:8080/"
        },
        "outputId": "05ca1136-ca10-4c35-ea7a-22c848df4121"
      },
      "source": [
        "genre_df.show()"
      ],
      "execution_count": 21,
      "outputs": [
        {
          "output_type": "stream",
          "name": "stdout",
          "text": [
            "+--------------------+-----+\n",
            "|              artist|genre|\n",
            "+--------------------+-----+\n",
            "|                Muse| rock|\n",
            "|             Nirvana| rock|\n",
            "|            Bon Jovi| rock|\n",
            "|          The Police| rock|\n",
            "|                Kiss| rock|\n",
            "|       Guns N' Roses| rock|\n",
            "|         Rusted Root| rock|\n",
            "|Katrina and the W...|  pop|\n",
            "|         The Beatles| rock|\n",
            "|        Hall & Oates|  pop|\n",
            "|        Otis Redding| soul|\n",
            "|         Marvin Gaye| soul|\n",
            "|     The Cranberries| rock|\n",
            "|            Survivor| rock|\n",
            "|       Fleetwood Mac|blues|\n",
            "|           Radiohead| rock|\n",
            "|                Toto| rock|\n",
            "|                  U2| rock|\n",
            "|Creedence Clearwa...| rock|\n",
            "|                 REM| rock|\n",
            "+--------------------+-----+\n",
            "only showing top 20 rows\n",
            "\n"
          ]
        }
      ]
    },
    {
      "cell_type": "code",
      "source": [
        "listening_df.show()"
      ],
      "metadata": {
        "colab": {
          "base_uri": "https://localhost:8080/"
        },
        "id": "rYMP6MkFpzs3",
        "outputId": "587588a5-c35d-4fa8-8eb7-4efd83038462"
      },
      "execution_count": 22,
      "outputs": [
        {
          "output_type": "stream",
          "name": "stdout",
          "text": [
            "+-----------+--------------------+---------------+--------------------+\n",
            "|    user_id|               track|         artist|               album|\n",
            "+-----------+--------------------+---------------+--------------------+\n",
            "|000Silenced|           Price Tag|       Jessie J|         Who You Are|\n",
            "|000Silenced|Price Tag (Acoust...|       Jessie J|           Price Tag|\n",
            "|000Silenced|Be Mine! (Ballad ...|          Robyn|            Be Mine!|\n",
            "|000Silenced|            Acapella|          Kelis|            Acapella|\n",
            "|000Silenced|   I'm Not Invisible|      The Tease|   I'm Not Invisible|\n",
            "|000Silenced|Bounce (Feat NORE...|       MSTRKRFT|         Fist of God|\n",
            "|000Silenced|Don't Stop The Mu...|        Rihanna|Addicted 2 Bassli...|\n",
            "|000Silenced|               ObZen|      Meshuggah|               ObZen|\n",
            "|000Silenced|   Yama's Messengers|         Gojira|The Way of All Flesh|\n",
            "|000Silenced|On the Brink of E...|   Napalm Death|Time Waits For No...|\n",
            "|000Silenced|On the Brink of E...|   Napalm Death|Time Waits For No...|\n",
            "|000Silenced|        In Deference|   Napalm Death|      Smear Campaign|\n",
            "|000Silenced|      Post(?)organic|    Decapitated|Organic Hallucinosis|\n",
            "|000Silenced|        Mind Feeders|   Dom & Roland| No Strings Attached|\n",
            "|000Silenced|Necrosadistic War...|Cannibal Corpse|                Kill|\n",
            "|000Silenced|     Dance All Night|   Dom & Roland|          Chronology|\n",
            "|000Silenced|          Late Night|   Dom & Roland|          Chronology|\n",
            "|000Silenced|          Freak Seen|   Dom & Roland|          Chronology|\n",
            "|000Silenced|Paradrenasite (Hi...|   Dom & Roland|          Chronology|\n",
            "|000Silenced|               Rhino|   Dom & Roland|          Chronology|\n",
            "+-----------+--------------------+---------------+--------------------+\n",
            "only showing top 20 rows\n",
            "\n"
          ]
        }
      ]
    },
    {
      "cell_type": "markdown",
      "metadata": {
        "id": "72OpWX7F98qg"
      },
      "source": [
        "Let's inner join these two data frames"
      ]
    },
    {
      "cell_type": "code",
      "source": [
        "data = listening_df.join(genre_df, how = 'inner', on = ['artist'])\n",
        "data.show()"
      ],
      "metadata": {
        "colab": {
          "base_uri": "https://localhost:8080/"
        },
        "id": "zmUvA633p5Y8",
        "outputId": "2351ca7d-2c1c-4ef9-b899-1a4a8eb163a2"
      },
      "execution_count": 23,
      "outputs": [
        {
          "output_type": "stream",
          "name": "stdout",
          "text": [
            "+------------+-----------+--------------------+--------------------+--------------------+\n",
            "|      artist|    user_id|               track|               album|               genre|\n",
            "+------------+-----------+--------------------+--------------------+--------------------+\n",
            "|    Jessie J|000Silenced|           Price Tag|         Who You Are| Ariana Grande & ...|\n",
            "|    Jessie J|000Silenced|           Price Tag|         Who You Are| Jhene Aiko & Rixton|\n",
            "|    Jessie J|000Silenced|           Price Tag|         Who You Are| Nicki Minaj & Ar...|\n",
            "|    Jessie J|000Silenced|           Price Tag|         Who You Are|                 pop|\n",
            "|    Jessie J|000Silenced|Price Tag (Acoust...|           Price Tag| Ariana Grande & ...|\n",
            "|    Jessie J|000Silenced|Price Tag (Acoust...|           Price Tag| Jhene Aiko & Rixton|\n",
            "|    Jessie J|000Silenced|Price Tag (Acoust...|           Price Tag| Nicki Minaj & Ar...|\n",
            "|    Jessie J|000Silenced|Price Tag (Acoust...|           Price Tag|                 pop|\n",
            "|       Robyn|000Silenced|Be Mine! (Ballad ...|            Be Mine!|                 pop|\n",
            "|       Kelis|000Silenced|            Acapella|            Acapella|                 pop|\n",
            "|   The Tease|000Silenced|   I'm Not Invisible|   I'm Not Invisible|             hip hop|\n",
            "|    MSTRKRFT|000Silenced|Bounce (Feat NORE...|         Fist of God|          electronic|\n",
            "|     Rihanna|000Silenced|Don't Stop The Mu...|Addicted 2 Bassli...|                 SZA|\n",
            "|     Rihanna|000Silenced|Don't Stop The Mu...|Addicted 2 Bassli...| Paul McCartney &...|\n",
            "|     Rihanna|000Silenced|Don't Stop The Mu...|Addicted 2 Bassli...|          Kanye West|\n",
            "|     Rihanna|000Silenced|Don't Stop The Mu...|Addicted 2 Bassli...| Kanye West & Pau...|\n",
            "|     Rihanna|000Silenced|Don't Stop The Mu...|Addicted 2 Bassli...|                 pop|\n",
            "|   Meshuggah|000Silenced|               ObZen|               ObZen|               metal|\n",
            "|      Gojira|000Silenced|   Yama's Messengers|The Way of All Flesh|               metal|\n",
            "|Napalm Death|000Silenced|On the Brink of E...|Time Waits For No...|           grindcore|\n",
            "+------------+-----------+--------------------+--------------------+--------------------+\n",
            "only showing top 20 rows\n",
            "\n"
          ]
        }
      ]
    },
    {
      "cell_type": "markdown",
      "metadata": {
        "id": "yM_f5qILBNeI"
      },
      "source": [
        "**Query #6**\n",
        "\n",
        "find top 10 users who are fan of ***pop*** music"
      ]
    },
    {
      "cell_type": "code",
      "metadata": {
        "id": "dognQVlxBi2n",
        "colab": {
          "base_uri": "https://localhost:8080/"
        },
        "outputId": "792b61c3-e9c2-4aa1-ead3-052d242da239"
      },
      "source": [
        "q6 = data.select('user_id').filter(data.genre == 'pop').groupby('user_id').agg(count('*').alias('count')).orderBy(desc('count')).limit(10)\n",
        "q6.show()"
      ],
      "execution_count": 24,
      "outputs": [
        {
          "output_type": "stream",
          "name": "stdout",
          "text": [
            "+---------------+-----+\n",
            "|        user_id|count|\n",
            "+---------------+-----+\n",
            "|        01Green|  496|\n",
            "|      momousagi|  400|\n",
            "|          mrpsb|  400|\n",
            "|   BlueKnockOut|  378|\n",
            "|    musicboy80s|  376|\n",
            "|  incultojurgis|  374|\n",
            "| ElektricOrchid|  370|\n",
            "|foreign_fanatic|  350|\n",
            "|   Kevin_Soutar|  346|\n",
            "|  landrover2171|  301|\n",
            "+---------------+-----+\n",
            "\n"
          ]
        }
      ]
    },
    {
      "cell_type": "markdown",
      "metadata": {
        "id": "63quzy7t-zb7"
      },
      "source": [
        "**Query #7**\n",
        "\n",
        "find top 10 famous genres"
      ]
    },
    {
      "cell_type": "code",
      "metadata": {
        "id": "aDFcoPPk-Rhf",
        "colab": {
          "base_uri": "https://localhost:8080/"
        },
        "outputId": "763ce70a-25ee-4d3c-908c-9f1facabb46f"
      },
      "source": [
        "q7 = data.select('genre').groupBy('genre').agg(count('*').alias('count')).orderBy(desc('count')).limit(10)\n",
        "q7.show()"
      ],
      "execution_count": 25,
      "outputs": [
        {
          "output_type": "stream",
          "name": "stdout",
          "text": [
            "+----------+-------+\n",
            "|     genre|  count|\n",
            "+----------+-------+\n",
            "|      rock|2691934|\n",
            "|       pop|1544747|\n",
            "|electronic| 551509|\n",
            "|   hip hop| 532984|\n",
            "|      folk| 438174|\n",
            "|indie rock| 431439|\n",
            "|      punk| 380915|\n",
            "|       r&b| 344101|\n",
            "|     metal| 208107|\n",
            "|     indie| 206726|\n",
            "+----------+-------+\n",
            "\n"
          ]
        }
      ]
    },
    {
      "cell_type": "markdown",
      "metadata": {
        "id": "hrZOAWVgLMZo"
      },
      "source": [
        "# Task 5:\n",
        "**Query #8**\n",
        "\n",
        "find out each user favourite genre"
      ]
    },
    {
      "cell_type": "code",
      "metadata": {
        "id": "H3AWxlkbLvCg",
        "colab": {
          "base_uri": "https://localhost:8080/"
        },
        "outputId": "b3a2538f-429c-4482-a7ba-e94324cba35c"
      },
      "source": [
        "q8_1 = data.select('user_id','genre').groupby('user_id','genre').agg(count('*').alias('count')).orderBy('user_id')\n",
        "q8_1.show()"
      ],
      "execution_count": 26,
      "outputs": [
        {
          "output_type": "stream",
          "name": "stdout",
          "text": [
            "+-------+--------------------+-----+\n",
            "|user_id|               genre|count|\n",
            "+-------+--------------------+-----+\n",
            "| --Seph| Boston Pops Orch...|    1|\n",
            "| --Seph|                 pop|    9|\n",
            "| --Seph|          Nils Frahm|    1|\n",
            "| --Seph|               dance|    1|\n",
            "| --Seph|  progressive trance|    1|\n",
            "| --Seph|          Thom Yorke|    2|\n",
            "| --Seph|               Ruben|    4|\n",
            "| --Seph|           classical|   31|\n",
            "| --Seph|               indie|    3|\n",
            "| --Seph|         heavy metal|    1|\n",
            "| --Seph|                punk|    3|\n",
            "| --Seph|           anti-folk|    3|\n",
            "| --Seph|               house|    3|\n",
            "| --Seph|              Xzibit|    4|\n",
            "| --Seph|          electropop|    1|\n",
            "| --Seph| Orchestra of Wel...|    1|\n",
            "| --Seph|   Alesso Feat Hurts|    1|\n",
            "| --Seph|       Sara Mingardo|    1|\n",
            "| --Seph| Sir Colin Davis ...|    1|\n",
            "| --Seph|          indie rock|   15|\n",
            "+-------+--------------------+-----+\n",
            "only showing top 20 rows\n",
            "\n"
          ]
        }
      ]
    },
    {
      "cell_type": "code",
      "metadata": {
        "id": "Soy2bMxQN-Ub",
        "colab": {
          "base_uri": "https://localhost:8080/"
        },
        "outputId": "7373e89c-4cc7-4bd2-aea7-381750a643f4"
      },
      "source": [
        "q8_2 = q8_1.groupBy('user_id').agg(max(struct(col('count'),col('genre'))).alias('max')).select(col('user_id'),col('max.genre'))\n",
        "q8_2.show()"
      ],
      "execution_count": 27,
      "outputs": [
        {
          "output_type": "stream",
          "name": "stdout",
          "text": [
            "+---------------+-----------+\n",
            "|        user_id|      genre|\n",
            "+---------------+-----------+\n",
            "|      --Shinn--|       rock|\n",
            "|       --ollz--|       rock|\n",
            "|     -Amnesiac-|      metal|\n",
            "|         -Bish-|       rock|\n",
            "|        -Danni-|       rock|\n",
            "|          -DeWp|    hip hop|\n",
            "|      -Faction-|       rock|\n",
            "|-February-Star-|       rock|\n",
            "|        -Gemma-|british pop|\n",
            "|   -Gingergirl-|        pop|\n",
            "|        -Hazel-|   synthpop|\n",
            "|        -Heiko-| electronic|\n",
            "|         -Katie|      lo-fi|\n",
            "|      -Krystal-|       rock|\n",
            "|         -Mark-| indie rock|\n",
            "|       -Mullet-|  metalcore|\n",
            "|          -Robs|       rock|\n",
            "| -SleepingStar-|black metal|\n",
            "|      -Stifler-|       rock|\n",
            "|  -Toxic-Waste-|  aggrotech|\n",
            "+---------------+-----------+\n",
            "only showing top 20 rows\n",
            "\n"
          ]
        }
      ]
    },
    {
      "cell_type": "markdown",
      "metadata": {
        "id": "6oIyhOHkCDuv"
      },
      "source": [
        "**Query #9**\n",
        "\n",
        "find out how many pop,rock,metal and hip hop singers we have\n",
        "\n",
        "and then visualize it using bar chart "
      ]
    },
    {
      "cell_type": "code",
      "metadata": {
        "id": "7_lEjNKVCDJv",
        "colab": {
          "base_uri": "https://localhost:8080/"
        },
        "outputId": "0cb892d7-0e34-4db7-c9d1-3cbeb518f75e"
      },
      "source": [
        "q9 = genre_df.select('genre').filter( (col('genre')=='pop') | (col('genre') == 'rock') | (col('genre') == 'metal') | (col('genre') == 'hip hop') ).groupBy('genre').agg(count('genre').alias('count'))\n",
        "q9.show()"
      ],
      "execution_count": 28,
      "outputs": [
        {
          "output_type": "stream",
          "name": "stdout",
          "text": [
            "+-------+-----+\n",
            "|  genre|count|\n",
            "+-------+-----+\n",
            "|    pop| 6960|\n",
            "|hip hop| 4288|\n",
            "|  metal| 1854|\n",
            "|   rock| 9066|\n",
            "+-------+-----+\n",
            "\n"
          ]
        }
      ]
    },
    {
      "cell_type": "markdown",
      "metadata": {
        "id": "h0h2SSk8InMH"
      },
      "source": [
        "Now, let's visualize the results using ***matplotlib***"
      ]
    },
    {
      "cell_type": "markdown",
      "source": [
        ".collect returns as a list"
      ],
      "metadata": {
        "id": "LuXm-u2DuGdX"
      }
    },
    {
      "cell_type": "code",
      "metadata": {
        "id": "J-n8gOC0Imj5",
        "colab": {
          "base_uri": "https://localhost:8080/"
        },
        "outputId": "ce3f8ffd-d0d8-4881-f6fa-6cebe659119d"
      },
      "source": [
        "q9.collect()"
      ],
      "execution_count": 29,
      "outputs": [
        {
          "output_type": "execute_result",
          "data": {
            "text/plain": [
              "[Row(genre='pop', count=6960),\n",
              " Row(genre='hip hop', count=4288),\n",
              " Row(genre='metal', count=1854),\n",
              " Row(genre='rock', count=9066)]"
            ]
          },
          "metadata": {},
          "execution_count": 29
        }
      ]
    },
    {
      "cell_type": "code",
      "metadata": {
        "id": "CMigHLrEQgKv"
      },
      "source": [
        "q9_list = q9.collect()"
      ],
      "execution_count": 30,
      "outputs": []
    },
    {
      "cell_type": "code",
      "source": [
        "lables = [row['genre'] for row in q9_list]\n",
        "counts = [row['count'] for row in q9_list]"
      ],
      "metadata": {
        "id": "80Ez-qPVuTg2"
      },
      "execution_count": 31,
      "outputs": []
    },
    {
      "cell_type": "code",
      "metadata": {
        "id": "FYLE4Mbu_Lbu",
        "colab": {
          "base_uri": "https://localhost:8080/"
        },
        "outputId": "4a2690a6-0050-47b5-8d6c-348ffe079a9f"
      },
      "source": [
        "print(lables)\n",
        "print(counts)"
      ],
      "execution_count": 32,
      "outputs": [
        {
          "output_type": "stream",
          "name": "stdout",
          "text": [
            "['pop', 'hip hop', 'metal', 'rock']\n",
            "[6960, 4288, 1854, 9066]\n"
          ]
        }
      ]
    },
    {
      "cell_type": "markdown",
      "metadata": {
        "id": "1iDrvEwYQ4AE"
      },
      "source": [
        "now lets visualize these two lists using a bar chart"
      ]
    },
    {
      "cell_type": "code",
      "metadata": {
        "id": "XOOq1U9BQjKI",
        "colab": {
          "base_uri": "https://localhost:8080/",
          "height": 282
        },
        "outputId": "1c6f4f46-92fc-49dd-bba3-83b7f47b1871"
      },
      "source": [
        "plts.bar(lables,counts)"
      ],
      "execution_count": 35,
      "outputs": [
        {
          "output_type": "execute_result",
          "data": {
            "text/plain": [
              "<BarContainer object of 4 artists>"
            ]
          },
          "metadata": {},
          "execution_count": 35
        },
        {
          "output_type": "display_data",
          "data": {
            "text/plain": [
              "<Figure size 432x288 with 1 Axes>"
            ],
            "image/png": "[encoded data removed]"
          },
          "metadata": {
            "needs_background": "light"
          }
        }
      ]
    }
  ]
}