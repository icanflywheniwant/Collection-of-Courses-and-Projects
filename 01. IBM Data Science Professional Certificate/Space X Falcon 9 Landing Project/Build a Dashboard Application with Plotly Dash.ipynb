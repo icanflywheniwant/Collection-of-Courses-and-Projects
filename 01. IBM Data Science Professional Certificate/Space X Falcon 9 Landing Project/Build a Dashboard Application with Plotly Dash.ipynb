{
    "cells": [
        {
            "cell_type": "markdown",
            "metadata": {
                "id": "3n3ltmfnrqpi",
                "outputId": "a2d4f52a-2fb7-4668-f5f0-fe862aab8eb0",
                "papermill": {
                    "duration": 1.489571,
                    "end_time": "2020-09-19T06:26:57.168979",
                    "exception": false,
                    "start_time": "2020-09-19T06:26:55.679408",
                    "status": "completed"
                },
                "tags": []
            },
            "source": [
                "<p style=\"text-align:center\">\n",
                "    <a href=\"https://skills.network/?utm_medium=Exinfluencer&utm_source=Exinfluencer&utm_content=000026UJ&utm_term=10006555&utm_id=NA-SkillsNetwork-Channel-SkillsNetworkCoursesIBMDS0321ENSkillsNetwork26802033-2022-01-01\" target=\"_blank\">\n",
                "    <img src=\"https://cf-courses-data.s3.us.cloud-object-storage.appdomain.cloud/assets/logos/SN_web_lightmode.png\" width=\"200\" alt=\"Skills Network Logo\"  />\n",
                "    </a>\n",
                "</p>\n"
            ]
        },
        {
            "cell_type": "markdown",
            "metadata": {},
            "source": [
                "# **Build a Dashboard Application with Plotly Dash**\n"
            ]
        },
        {
            "cell_type": "markdown",
            "metadata": {},
            "source": [
                "In this lab, you will be building a Plotly Dash application for users to perform interactive visual analytics on SpaceX launch data in real-time.\n",
                "\n",
                "This dashboard application contains input components such as a dropdown list and a range slider to interact with a pie chart and a scatter point chart. You will be guided to build this dashboard application via the following tasks:\n",
                "\n",
                "TASK 1: Add a Launch Site Drop-down Input Component\n",
                "TASK 2: Add a callback function to render success-pie-chart based on selected site dropdown\n",
                "TASK 3: Add a Range Slider to Select Payload\n",
                "TASK 4: Add a callback function to render the success-payload-scatter-chart scatter plot\n",
                "Note:Please take screenshots of the Dashboard and save them. Further upload your notebook to github.\n",
                "\n",
                "The github url and the screenshots are later required in the presentation slides.\n"
            ]
        },
        {
            "cell_type": "markdown",
            "metadata": {},
            "source": [
                "# After visual analysis using the dashboard, you should be able to obtain some insights to answer the following five questions:\n",
                "\n",
                "- Which site has the largest successful launches?\n",
                "- Which site has the highest launch success rate?\n",
                "- Which payload range(s) has the highest launch success rate?\n",
                "- Which payload range(s) has the lowest launch success rate?\n",
                "- Which F9 Booster version (v1.0, v1.1, FT, B4, B5, etc.) has the highest launch success rate?\n",
                "\n"
            ]
        },
        {
            "cell_type": "markdown",
            "metadata": {},
            "source": [
                "Estimated time needed: 90 minutes\n",
                "\n"
            ]
        },
        {
            "cell_type": "markdown",
            "metadata": {},
            "source": [
                "# Setup development environment\n",
                "\n"
            ]
        },
        {
            "cell_type": "markdown",
            "metadata": {},
            "source": [
                "### Install required Python packages\n",
                "\n"
            ]
        },
        {
            "cell_type": "code",
            "execution_count": 1,
            "metadata": {},
            "outputs": [
                {
                    "name": "stdout",
                    "output_type": "stream",
                    "text": [
                        "Requirement already satisfied: pandas in /opt/conda/envs/Python-3.10/lib/python3.10/site-packages (1.4.3)\n",
                        "Collecting dash\n",
                        "  Downloading dash-2.8.1-py3-none-any.whl (9.9 MB)\n",
                        "\u001b[2K     \u001b[90m━━━━━━━━━━━━━━━━━━━━━━━━━━━━━━━━━━━━━━━━\u001b[0m \u001b[32m9.9/9.9 MB\u001b[0m \u001b[31m62.9 MB/s\u001b[0m eta \u001b[36m0:00:00\u001b[0m:00:01\u001b[0m00:01\u001b[0m\n",
                        "\u001b[?25hRequirement already satisfied: python-dateutil>=2.8.1 in /opt/conda/envs/Python-3.10/lib/python3.10/site-packages (from pandas) (2.8.2)\n",
                        "Requirement already satisfied: pytz>=2020.1 in /opt/conda/envs/Python-3.10/lib/python3.10/site-packages (from pandas) (2022.1)\n",
                        "Requirement already satisfied: numpy>=1.21.0 in /opt/conda/envs/Python-3.10/lib/python3.10/site-packages (from pandas) (1.23.1)\n",
                        "Collecting dash-table==5.0.0\n",
                        "  Downloading dash_table-5.0.0-py3-none-any.whl (3.9 kB)\n",
                        "Collecting Flask>=1.0.4\n",
                        "  Downloading Flask-2.2.3-py3-none-any.whl (101 kB)\n",
                        "\u001b[2K     \u001b[90m━━━━━━━━━━━━━━━━━━━━━━━━━━━━━━━━━━━━━━\u001b[0m \u001b[32m101.8/101.8 kB\u001b[0m \u001b[31m13.1 MB/s\u001b[0m eta \u001b[36m0:00:00\u001b[0m\n",
                        "\u001b[?25hCollecting dash-core-components==2.0.0\n",
                        "  Downloading dash_core_components-2.0.0-py3-none-any.whl (3.8 kB)\n",
                        "Collecting dash-html-components==2.0.0\n",
                        "  Downloading dash_html_components-2.0.0-py3-none-any.whl (4.1 kB)\n",
                        "Requirement already satisfied: plotly>=5.0.0 in /opt/conda/envs/Python-3.10/lib/python3.10/site-packages (from dash) (5.9.0)\n",
                        "Requirement already satisfied: click>=8.0 in /opt/conda/envs/Python-3.10/lib/python3.10/site-packages (from Flask>=1.0.4->dash) (8.0.4)\n",
                        "Collecting Werkzeug>=2.2.2\n",
                        "  Downloading Werkzeug-2.2.3-py3-none-any.whl (233 kB)\n",
                        "\u001b[2K     \u001b[90m━━━━━━━━━━━━━━━━━━━━━━━━━━━━━━━━━━━━━━\u001b[0m \u001b[32m233.6/233.6 kB\u001b[0m \u001b[31m39.4 MB/s\u001b[0m eta \u001b[36m0:00:00\u001b[0m\n",
                        "\u001b[?25hCollecting itsdangerous>=2.0\n",
                        "  Downloading itsdangerous-2.1.2-py3-none-any.whl (15 kB)\n",
                        "Requirement already satisfied: Jinja2>=3.0 in /opt/conda/envs/Python-3.10/lib/python3.10/site-packages (from Flask>=1.0.4->dash) (3.0.3)\n",
                        "Requirement already satisfied: tenacity>=6.2.0 in /opt/conda/envs/Python-3.10/lib/python3.10/site-packages (from plotly>=5.0.0->dash) (8.0.1)\n",
                        "Requirement already satisfied: six>=1.5 in /opt/conda/envs/Python-3.10/lib/python3.10/site-packages (from python-dateutil>=2.8.1->pandas) (1.16.0)\n",
                        "Requirement already satisfied: MarkupSafe>=2.0 in /opt/conda/envs/Python-3.10/lib/python3.10/site-packages (from Jinja2>=3.0->Flask>=1.0.4->dash) (2.1.1)\n",
                        "Installing collected packages: dash-table, dash-html-components, dash-core-components, Werkzeug, itsdangerous, Flask, dash\n",
                        "  Attempting uninstall: Werkzeug\n",
                        "    Found existing installation: Werkzeug 2.0.3\n",
                        "    Uninstalling Werkzeug-2.0.3:\n",
                        "      Successfully uninstalled Werkzeug-2.0.3\n",
                        "Successfully installed Flask-2.2.3 Werkzeug-2.2.3 dash-2.8.1 dash-core-components-2.0.0 dash-html-components-2.0.0 dash-table-5.0.0 itsdangerous-2.1.2\n"
                    ]
                }
            ],
            "source": [
                "!pip install pandas dash"
            ]
        },
        {
            "cell_type": "markdown",
            "metadata": {},
            "source": [
                "### Download a skeleton dashboard application and dataset\n",
                "\n"
            ]
        },
        {
            "cell_type": "code",
            "execution_count": 2,
            "metadata": {},
            "outputs": [
                {
                    "name": "stdout",
                    "output_type": "stream",
                    "text": [
                        "--2023-02-18 09:23:39--  https://cf-courses-data.s3.us.cloud-object-storage.appdomain.cloud/IBM-DS0321EN-SkillsNetwork/datasets/spacex_launch_dash.csv\n",
                        "Resolving cf-courses-data.s3.us.cloud-object-storage.appdomain.cloud (cf-courses-data.s3.us.cloud-object-storage.appdomain.cloud)... 198.23.119.245\n",
                        "Connecting to cf-courses-data.s3.us.cloud-object-storage.appdomain.cloud (cf-courses-data.s3.us.cloud-object-storage.appdomain.cloud)|198.23.119.245|:443... connected.\n",
                        "HTTP request sent, awaiting response... 200 OK\n",
                        "Length: 2476 (2.4K) [text/csv]\n",
                        "Saving to: ‘spacex_launch_dash.csv’\n",
                        "\n",
                        "spacex_launch_dash. 100%[===================>]   2.42K  --.-KB/s    in 0s      \n",
                        "\n",
                        "2023-02-18 09:23:39 (28.1 MB/s) - ‘spacex_launch_dash.csv’ saved [2476/2476]\n",
                        "\n"
                    ]
                }
            ],
            "source": [
                "#Run the following wget command line in the terminal to download dataset as spacex_launch_dash.csv\n",
                "\n",
                "!wget \"https://cf-courses-data.s3.us.cloud-object-storage.appdomain.cloud/IBM-DS0321EN-SkillsNetwork/datasets/spacex_launch_dash.csv\"\n"
            ]
        },
        {
            "cell_type": "code",
            "execution_count": 3,
            "metadata": {},
            "outputs": [
                {
                    "name": "stdout",
                    "output_type": "stream",
                    "text": [
                        "--2023-02-18 09:23:43--  https://cf-courses-data.s3.us.cloud-object-storage.appdomain.cloud/IBM-DS0321EN-SkillsNetwork/labs/module_3/spacex_dash_app.py\n",
                        "Resolving cf-courses-data.s3.us.cloud-object-storage.appdomain.cloud (cf-courses-data.s3.us.cloud-object-storage.appdomain.cloud)... 198.23.119.245\n",
                        "Connecting to cf-courses-data.s3.us.cloud-object-storage.appdomain.cloud (cf-courses-data.s3.us.cloud-object-storage.appdomain.cloud)|198.23.119.245|:443... connected.\n",
                        "HTTP request sent, awaiting response... 200 OK\n",
                        "Length: 2110 (2.1K) [text/x-python]\n",
                        "Saving to: ‘spacex_dash_app.py’\n",
                        "\n",
                        "spacex_dash_app.py  100%[===================>]   2.06K  --.-KB/s    in 0s      \n",
                        "\n",
                        "2023-02-18 09:23:43 (28.0 MB/s) - ‘spacex_dash_app.py’ saved [2110/2110]\n",
                        "\n"
                    ]
                }
            ],
            "source": [
                "# Download a skeleton Dash app to be completed in this lab:\n",
                "!wget \"https://cf-courses-data.s3.us.cloud-object-storage.appdomain.cloud/IBM-DS0321EN-SkillsNetwork/labs/module_3/spacex_dash_app.py\""
            ]
        },
        {
            "cell_type": "code",
            "execution_count": 4,
            "metadata": {},
            "outputs": [],
            "source": [
                "# The following steps were run after downloading the py file and opening it here "
            ]
        },
        {
            "cell_type": "code",
            "execution_count": 5,
            "metadata": {},
            "outputs": [],
            "source": [
                "# Import required libraries\n",
                "import pandas as pd\n",
                "import dash\n",
                "from dash import html\n",
                "from dash import dcc\n",
                "from dash.dependencies import Input, Output\n",
                "import plotly.express as px\n"
            ]
        },
        {
            "cell_type": "code",
            "execution_count": 6,
            "metadata": {},
            "outputs": [],
            "source": [
                "# Read the airline data into pandas dataframe\n",
                "spacex_df = pd.read_csv(\"spacex_launch_dash.csv\")\n",
                "\n",
                "#Minimum and maximum Payload masses for the range slider\n",
                "max_payload = spacex_df['Payload Mass (kg)'].max()\n",
                "min_payload = spacex_df['Payload Mass (kg)'].min()\n"
            ]
        },
        {
            "cell_type": "code",
            "execution_count": 7,
            "metadata": {},
            "outputs": [
                {
                    "name": "stdout",
                    "output_type": "stream",
                    "text": [
                        "Dash is running on http://127.0.0.1:8050/\n",
                        "\n",
                        " * Serving Flask app '__main__'\n",
                        " * Debug mode: off\n"
                    ]
                },
                {
                    "name": "stderr",
                    "output_type": "stream",
                    "text": [
                        "\u001b[31m\u001b[1mWARNING: This is a development server. Do not use it in a production deployment. Use a production WSGI server instead.\u001b[0m\n",
                        " * Running on http://127.0.0.1:8050\n",
                        "\u001b[33mPress CTRL+C to quit\u001b[0m\n"
                    ]
                }
            ],
            "source": [
                "# Create a dash application\n",
                "app = dash.Dash(__name__)\n",
                "\n",
                "\n",
                "#Get the launch sites from the spacex_df dataframe to use in the dropdown list\n",
                "launch_sites = []\n",
                "launch_sites.append({'label': 'All Sites', 'value': 'All Sites'})\n",
                "for launch_site in spacex_df['Launch Site'].unique().tolist():\n",
                "    launch_sites.append({'label': launch_site, 'value': launch_site})\n",
                "\n",
                "\n",
                "\n",
                "\n",
                "\n",
                "# Create an app layout\n",
                "app.layout = html.Div(children=[html.H1('SpaceX Launch Records Dashboard',\n",
                "                                        style={'textAlign': 'center', 'color': '#503D36',\n",
                "                                               'font-size': 40}),\n",
                "\n",
                "                                # TASK 1: Add a dropdown list to enable Launch Site selection\n",
                "                                dcc.Dropdown(id='site-dropdown',\n",
                "                                            options = launch_sites,\n",
                "                                            value='All Sites',\n",
                "                                            placeholder=\"Launch Site\",\n",
                "                                            searchable=True\n",
                "                                            ),\n",
                "\n",
                "                                html.Br(),\n",
                "\n",
                "                                # TASK 2: Add a pie chart to show the total successful launches count for all sites\n",
                "                                # If a specific launch site was selected, show the Success vs. Failed counts for the site\n",
                "                                html.Div(dcc.Graph(id='success-pie-chart')), #this id will be used in the callback function to change the pie chart\n",
                "                                \n",
                "                                html.Br(),\n",
                "\n",
                "                                html.P(\"Payload range (Kg):\"),\n",
                "\n",
                "                                # TASK 3: Add a slider to select payload range\n",
                "                                dcc.RangeSlider(id='payload-slider',\n",
                "                                                min=0, max=10000, step=1000,\n",
                "                                                marks={0: '0', 2500: '2500', 5000: '5000', 7500: '7500', 10000: '10000'},\n",
                "                                                value=[min_payload, max_payload]),\n",
                "\n",
                "\n",
                "\n",
                "\n",
                "                                # TASK 4: Add a scatter chart to show the correlation between payload and launch success\n",
                "                                html.Div(dcc.Graph(id='success-payload-scatter-chart')),\n",
                "                                ])\n",
                "\n",
                "# TASK 2:\n",
                "# Add a callback function for `site-dropdown` as input, `success-pie-chart` as output\n",
                "@app.callback(Output(component_id='success-pie-chart', component_property='figure'),\n",
                "            Input(component_id='site-dropdown', component_property='value'))\n",
                "\n",
                "def get_pie_chart(entered_site):\n",
                "    filtered_df = spacex_df[spacex_df['Launch Site'] == entered_site]\n",
                "    if entered_site == 'All Sites':\n",
                "        fig = px.pie(spacex_df, values='class', names='Launch Site', title='Total Success Launches by Site')\n",
                "        return fig\n",
                "    else:\n",
                "        # return the outcomes pie chart for a selected site\n",
                "        site_df = filtered_df.groupby(['Launch Site', 'class']).size().reset_index(name='class count')\n",
                "        fig = px.pie(site_df,values='class count',names='class',title=f'Total Success Launches for site {entered_site}')\n",
                "        return fig\n",
                "\n",
                "\n",
                "\n",
                "# TASK 4:\n",
                "# Add a callback function for `site-dropdown` and `payload-slider` as inputs, `success-payload-scatter-chart` as output\n",
                "@app.callback(Output(component_id='success-payload-scatter-chart', component_property='figure'),\n",
                "            [Input(component_id='site-dropdown', component_property='value'), Input(component_id='payload-slider', component_property='value')]) #note the 2 inputs, so they are in a list\n",
                "\n",
                "\n",
                "def get_scatter_chart(entered_site, payload_slider):\n",
                "    low, high = payload_slider\n",
                "    slide=(spacex_df['Payload Mass (kg)'] > low) & (spacex_df['Payload Mass (kg)'] < high)\n",
                "    dropdown_scatter=spacex_df[slide]\n",
                "\n",
                "    #If All sites are selected, render a scatter plot to display all values for variables Payload Mass (kg) and class.\n",
                "    #Point colour is set to the booster version category\n",
                "    if entered_site == 'All Sites':\n",
                "        fig = px.scatter(\n",
                "            dropdown_scatter, x='Payload Mass (kg)', y='class',\n",
                "            hover_data=['Booster Version'],\n",
                "            color='Booster Version Category',\n",
                "            title='Correlation between Payload and Success for all Sites')\n",
                "        return fig\n",
                "    else:\n",
                "    #If a specific site is selected, filter the spacex_df dataframe first, then render a scatter plot to display the same as for all sites.\n",
                "        dropdown_scatter = dropdown_scatter[spacex_df['Launch Site'] == entered_site]\n",
                "        fig=px.scatter(\n",
                "            dropdown_scatter,x='Payload Mass (kg)', y='class', \n",
                "            hover_data=['Booster Version'],\n",
                "            color='Booster Version Category',\n",
                "            title = f'Success by Payload Size for site {entered_site}')\n",
                "        return fig\n",
                "\n",
                "# Run the app\n",
                "if __name__ == '__main__':\n",
                "    app.run_server()"
            ]
        },
        {
            "cell_type": "markdown",
            "metadata": {},
            "source": [
                "# Created as a Jupyter Notebook by Gaurav Mehta"
            ]
        }
    ],
    "metadata": {
        "kernelspec": {
            "display_name": "Python 3.10",
            "language": "python",
            "name": "python3"
        },
        "language_info": {
            "codemirror_mode": {
                "name": "ipython",
                "version": 3
            },
            "file_extension": ".py",
            "mimetype": "text/x-python",
            "name": "python",
            "nbconvert_exporter": "python",
            "pygments_lexer": "ipython3",
            "version": "3.10.9"
        },
        "papermill": {
            "duration": 142.196942,
            "end_time": "2020-09-19T06:29:13.341578",
            "environment_variables": {},
            "exception": null,
            "input_path": "__notebook__.ipynb",
            "output_path": "__notebook__.ipynb",
            "parameters": {},
            "start_time": "2020-09-19T06:26:51.144636",
            "version": "2.1.0"
        },
        "vscode": {
            "interpreter": {
                "hash": "25fd16cc7005b864b8914174889c13d9c18fa600928f478540e0bc66450764da"
            }
        }
    },
    "nbformat": 4,
    "nbformat_minor": 4
}
