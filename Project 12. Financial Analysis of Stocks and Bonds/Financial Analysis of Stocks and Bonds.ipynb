{
 "cells": [
  {
   "attachments": {},
   "cell_type": "markdown",
   "metadata": {},
   "source": [
    "# Financial Analysis - Stocks, Bonds, Derivatives"
   ]
  },
  {
   "attachments": {},
   "cell_type": "markdown",
   "metadata": {},
   "source": [
    "This Notebook contains various snippets of code that allow for the calculation of various measures for a Stock or a Bond. They are as follows. \n",
    "\n",
    "- Stocks\n",
    "1. Beta\n",
    "2. CAPM\n",
    "3. Sharpe and Treynor Ratio\n",
    "4. DCF Model\n",
    "5. Security Market Line\n",
    "6. Marokwitz Model (Monte Carlo Simulation)\n",
    "7. Value at Risk (VaR)\n",
    "8. IRR and MIRR (Modified IRR)\n",
    "9. Enterprise Value\n",
    "10. Equity Value\n",
    "11. Factor Investing\n",
    "\n",
    "- Bonds\n",
    "1. Yield\n",
    "2. Modified Duration\n",
    "3. Macaulay Duration\n",
    "4. IRR\n",
    "\n",
    "- Derivatives\n",
    "1. Binomial Model\n",
    "2. Black-Scholes Model\n",
    "3. Greeks"
   ]
  },
  {
   "attachments": {},
   "cell_type": "markdown",
   "metadata": {},
   "source": [
    "### Calculating the Beta of a Stock"
   ]
  },
  {
   "cell_type": "code",
   "execution_count": 24,
   "metadata": {},
   "outputs": [
    {
     "name": "stdout",
     "output_type": "stream",
     "text": [
      "The beta of DDOG is 1.28\n"
     ]
    }
   ],
   "source": [
    "import yfinance as yf\n",
    "\n",
    "# Set the ticker symbol for the stock\n",
    "ticker = \"DDOG\"\n",
    "\n",
    "# Get the historical data for the stock using yfinance\n",
    "stock_data = yf.Ticker(ticker).history(period=\"max\")\n",
    "\n",
    "# Get the historical data for the S&P 500 using yfinance\n",
    "sp500_data = yf.Ticker(\"^GSPC\").history(period=\"max\")\n",
    "\n",
    "# Calculate the daily returns for the stock and the S&P 500\n",
    "stock_returns = stock_data[\"Close\"].pct_change()\n",
    "sp500_returns = sp500_data[\"Close\"].pct_change()\n",
    "\n",
    "# Merge the daily returns into a single dataframe\n",
    "merged_returns = stock_returns.to_frame(name=\"Stock Returns\").join(sp500_returns.to_frame(name=\"S&P 500 Returns\"))\n",
    "\n",
    "# Calculate the covariance matrix and extract the beta value\n",
    "covariance_matrix = merged_returns.cov()\n",
    "beta = covariance_matrix.loc[\"Stock Returns\", \"S&P 500 Returns\"] / covariance_matrix.loc[\"S&P 500 Returns\", \"S&P 500 Returns\"]\n",
    "\n",
    "# Print the beta value\n",
    "print(\"The beta of {} is {:.2f}\".format(ticker, beta))\n"
   ]
  },
  {
   "attachments": {},
   "cell_type": "markdown",
   "metadata": {},
   "source": [
    "### Calculate the CAPM of a Stock"
   ]
  },
  {
   "cell_type": "code",
   "execution_count": 25,
   "metadata": {},
   "outputs": [
    {
     "name": "stdout",
     "output_type": "stream",
     "text": [
      "The CAPM of DDOG is -0.38%\n"
     ]
    }
   ],
   "source": [
    "import yfinance as yf\n",
    "import numpy as np\n",
    "\n",
    "# Set the ticker symbol for the stock\n",
    "ticker = \"DDOG\"\n",
    "\n",
    "# Get the historical data for the stock using yfinance\n",
    "stock_data = yf.Ticker(ticker).history(period=\"max\")\n",
    "\n",
    "# Get the historical data for the S&P 500 using yfinance\n",
    "sp500_data = yf.Ticker(\"^GSPC\").history(period=\"max\")\n",
    "\n",
    "# Calculate the daily returns for the stock and the S&P 500\n",
    "stock_returns = stock_data[\"Close\"].pct_change()\n",
    "sp500_returns = sp500_data[\"Close\"].pct_change()\n",
    "\n",
    "# Merge the daily returns into a single dataframe\n",
    "merged_returns = stock_returns.to_frame(name=\"Stock Returns\").join(sp500_returns.to_frame(name=\"S&P 500 Returns\"))\n",
    "\n",
    "# Calculate the expected market return\n",
    "expected_market_return = np.mean(sp500_returns)\n",
    "\n",
    "# Calculate the risk-free rate (10-year US Treasury bond yield)\n",
    "risk_free_rate = 0.015\n",
    "\n",
    "# Calculate the beta value\n",
    "covariance_matrix = merged_returns.cov()\n",
    "beta = covariance_matrix.loc[\"Stock Returns\", \"S&P 500 Returns\"] / covariance_matrix.loc[\"S&P 500 Returns\", \"S&P 500 Returns\"]\n",
    "\n",
    "# Calculate the expected return using the CAPM formula\n",
    "expected_return = risk_free_rate + beta * (expected_market_return - risk_free_rate)\n",
    "\n",
    "# Print the CAPM result\n",
    "print(\"The CAPM of {} is {:.2%}\".format(ticker, expected_return))\n"
   ]
  },
  {
   "attachments": {},
   "cell_type": "markdown",
   "metadata": {},
   "source": [
    "### Calculate the Treynor and the Sharpe Ratio of a Stock"
   ]
  },
  {
   "cell_type": "code",
   "execution_count": 1,
   "metadata": {},
   "outputs": [
    {
     "name": "stdout",
     "output_type": "stream",
     "text": [
      "The Sharpe Ratio of DDOG is -0.32\n",
      "The Treynor Ratio of DDOG is -0.01\n"
     ]
    }
   ],
   "source": [
    "import yfinance as yf\n",
    "import numpy as np\n",
    "\n",
    "# Set the ticker symbol for the stock\n",
    "ticker = \"DDOG\"\n",
    "\n",
    "# Get the historical data for the stock using yfinance\n",
    "stock_data = yf.Ticker(ticker).history(period=\"max\")\n",
    "\n",
    "# Get the historical data for the S&P 500 using yfinance\n",
    "sp500_data = yf.Ticker(\"^GSPC\").history(period=\"max\")\n",
    "\n",
    "# Calculate the daily returns for the stock and the S&P 500\n",
    "stock_returns = stock_data[\"Close\"].pct_change()\n",
    "sp500_returns = sp500_data[\"Close\"].pct_change()\n",
    "\n",
    "# Merge the daily returns into a single dataframe\n",
    "merged_returns = stock_returns.to_frame(name=\"Stock Returns\").join(sp500_returns.to_frame(name=\"S&P 500 Returns\"))\n",
    "\n",
    "# Calculate the expected return and standard deviation for the stock\n",
    "expected_return = np.mean(stock_returns)\n",
    "std_deviation = np.std(stock_returns)\n",
    "\n",
    "# Calculate the risk-free rate (10-year US Treasury bond yield)\n",
    "risk_free_rate = 0.015\n",
    "\n",
    "# Calculate the Sharpe Ratio\n",
    "sharpe_ratio = (expected_return - risk_free_rate) / std_deviation\n",
    "\n",
    "# Calculate the beta value\n",
    "covariance_matrix = merged_returns.cov()\n",
    "beta = covariance_matrix.loc[\"Stock Returns\", \"S&P 500 Returns\"] / covariance_matrix.loc[\"S&P 500 Returns\", \"S&P 500 Returns\"]\n",
    "\n",
    "# Calculate the Treynor Ratio\n",
    "treynor_ratio = (expected_return - risk_free_rate) / beta\n",
    "\n",
    "# Print the Sharpe Ratio and Treynor Ratio\n",
    "print(\"The Sharpe Ratio of {} is {:.2f}\".format(ticker, sharpe_ratio))\n",
    "print(\"The Treynor Ratio of {} is {:.2f}\".format(ticker, treynor_ratio))\n"
   ]
  },
  {
   "attachments": {},
   "cell_type": "markdown",
   "metadata": {},
   "source": [
    "### DCF Model"
   ]
  },
  {
   "cell_type": "code",
   "execution_count": 2,
   "metadata": {},
   "outputs": [
    {
     "name": "stdout",
     "output_type": "stream",
     "text": [
      "The DCF value of the share is: 132.07\n"
     ]
    }
   ],
   "source": [
    "# Define inputs\n",
    "dividend = 10.0    # dividend per share\n",
    "discount_rate = 0.12    # discount rate (or cost of capital)\n",
    "growth_rate = 0.05    # expected annual growth rate of dividends\n",
    "years = 10   # number of years of dividends to forecast\n",
    "\n",
    "# Calculate the present value of future dividends\n",
    "discount_factor = 1 / ((1 + discount_rate) ** years)\n",
    "pv_dividends = sum([(dividend * (1 + growth_rate) ** n) * discount_factor for n in range(1, years + 1)])\n",
    "\n",
    "# Calculate the DCF value of the share\n",
    "dcf_value = pv_dividends / discount_factor\n",
    "\n",
    "# Print the DCF value\n",
    "print(\"The DCF value of the share is:\", round(dcf_value, 2))\n"
   ]
  },
  {
   "attachments": {},
   "cell_type": "markdown",
   "metadata": {},
   "source": [
    "### Custom Sharpe Ratio Model"
   ]
  },
  {
   "cell_type": "code",
   "execution_count": 18,
   "metadata": {},
   "outputs": [
    {
     "name": "stdout",
     "output_type": "stream",
     "text": [
      "[*********************100%***********************]  1 of 1 completed\n",
      "Sharpe Ratio for AAPL : 0.37\n"
     ]
    }
   ],
   "source": [
    "import pandas as pd\n",
    "import yfinance as yf\n",
    "\n",
    "# Define ticker symbol and time period\n",
    "ticker = \"AAPL\"\n",
    "start_date = \"2021-01-01\"\n",
    "end_date = \"2023-03-01\"\n",
    "\n",
    "# Get stock data from Yahoo Finance API\n",
    "stock_data = yf.download(ticker, start=start_date, end=end_date)\n",
    "\n",
    "# Calculate daily returns and risk-free rate\n",
    "daily_returns = stock_data['Adj Close'].pct_change()\n",
    "risk_free_rate = 0.1 / 252  # assume 10% annual rate, 252 trading days per year\n",
    "\n",
    "# Calculate annualized Sharpe Ratio\n",
    "annual_returns = daily_returns.mean() * 252\n",
    "annual_volatility = daily_returns.std() * (252 ** 0.5)\n",
    "sharpe_ratio = (annual_returns - risk_free_rate) / annual_volatility\n",
    "\n",
    "print(\"Sharpe Ratio for {} : {:.2f}\".format(ticker, sharpe_ratio))\n"
   ]
  },
  {
   "attachments": {},
   "cell_type": "markdown",
   "metadata": {},
   "source": [
    "### Draw the Security Market Line"
   ]
  },
  {
   "cell_type": "code",
   "execution_count": 9,
   "metadata": {},
   "outputs": [
    {
     "data": {
      "image/png": "[encoded data removed]",
      "text/plain": [
       "<Figure size 640x480 with 1 Axes>"
      ]
     },
     "metadata": {},
     "output_type": "display_data"
    }
   ],
   "source": [
    "import matplotlib.pyplot as plt\n",
    "import numpy as np\n",
    "\n",
    "# Define the risk-free rate and expected return of the market\n",
    "rf = 0.05\n",
    "market_return = 0.08\n",
    "\n",
    "# Define the beta and expected return of the stock\n",
    "beta = 1.2\n",
    "stock_return = rf + beta * (market_return - rf)\n",
    "\n",
    "# Generate a range of expected returns\n",
    "expected_returns = np.linspace(rf, 0.2, 100)\n",
    "\n",
    "# Calculate the Security Market Line\n",
    "sml = rf + (market_return - rf) * expected_returns\n",
    "\n",
    "# Plot the Security Market Line and the stock's expected return\n",
    "plt.plot(expected_returns, sml, 'r', label='Security Market Line')\n",
    "plt.plot(beta, stock_return, 'bo', label='Stock')\n",
    "plt.xlabel('Expected Return')\n",
    "plt.ylabel('Risk Premium')\n",
    "plt.title('Security Market Line')\n",
    "plt.legend()\n",
    "plt.show()\n"
   ]
  },
  {
   "attachments": {},
   "cell_type": "markdown",
   "metadata": {},
   "source": [
    "### Markowitz Model Generation"
   ]
  },
  {
   "cell_type": "code",
   "execution_count": 11,
   "metadata": {},
   "outputs": [
    {
     "name": "stdout",
     "output_type": "stream",
     "text": [
      "Optimal weights: [0.01440773 0.01964354 0.96594873]\n",
      "Expected return: 0.34676940040810295\n",
      "Standard deviation: 0.1309141491244727\n",
      "Sharpe ratio: 2.26690088422708\n"
     ]
    },
    {
     "data": {
      "image/png": "[encoded data removed]",
      "text/plain": [
       "<Figure size 640x480 with 2 Axes>"
      ]
     },
     "metadata": {},
     "output_type": "display_data"
    }
   ],
   "source": [
    "import pandas as pd\n",
    "import numpy as np\n",
    "import matplotlib.pyplot as plt\n",
    "\n",
    "# Define the expected returns and covariance matrix of the assets\n",
    "returns = pd.DataFrame({\n",
    "    'asset_1': [0.2, 0.3, 0.15],\n",
    "    'asset_2': [0.25, 0.4, 0.20],\n",
    "    'asset_3': [0.3, 0.5, 0.25]\n",
    "})\n",
    "\n",
    "covariance = returns.cov()\n",
    "\n",
    "# Define the risk-free rate and target return\n",
    "rf = 0.05\n",
    "target_return = 0.3\n",
    "\n",
    "# Calculate the expected returns and standard deviations of the assets\n",
    "expected_returns = returns.mean()\n",
    "std_deviations = returns.std()\n",
    "\n",
    "# Define the number of assets in the portfolio\n",
    "num_assets = len(returns.columns)\n",
    "\n",
    "# Define the random weights for the portfolio\n",
    "np.random.seed(123)\n",
    "weights = np.random.random(num_assets)\n",
    "weights /= np.sum(weights)\n",
    "\n",
    "# Calculate the portfolio return and standard deviation\n",
    "portfolio_return = np.sum(weights * expected_returns)\n",
    "portfolio_std = np.sqrt(np.dot(weights.T, np.dot(covariance, weights)))\n",
    "\n",
    "# Calculate the Sharpe ratio\n",
    "sharpe_ratio = (portfolio_return - rf) / portfolio_std\n",
    "\n",
    "# Define the number of iterations for the Monte Carlo simulation\n",
    "num_iterations = 10000\n",
    "\n",
    "# Define the arrays to store the results of the Monte Carlo simulation\n",
    "results = np.zeros((num_iterations, 3))\n",
    "weights_record = np.zeros((num_iterations, num_assets))\n",
    "\n",
    "# Run the Monte Carlo simulation\n",
    "for i in range(num_iterations):\n",
    "    # Generate random weights for the portfolio\n",
    "    weights = np.random.random(num_assets)\n",
    "    weights /= np.sum(weights)\n",
    "\n",
    "    # Calculate the portfolio return, standard deviation, and Sharpe ratio\n",
    "    portfolio_return = np.sum(weights * expected_returns)\n",
    "    portfolio_std = np.sqrt(np.dot(weights.T, np.dot(covariance, weights)))\n",
    "    sharpe_ratio = (portfolio_return - rf) / portfolio_std\n",
    "\n",
    "    # Store the results\n",
    "    results[i][0] = portfolio_return\n",
    "    results[i][1] = portfolio_std\n",
    "    results[i][2] = sharpe_ratio\n",
    "    weights_record[i,:] = weights\n",
    "\n",
    "# Find the portfolio with the highest Sharpe ratio\n",
    "max_sharpe = results[:,2].argmax()\n",
    "optimal_weights = weights_record[max_sharpe,:]\n",
    "\n",
    "# Print the results\n",
    "print(\"Optimal weights:\", optimal_weights)\n",
    "print(\"Expected return:\", results[max_sharpe][0])\n",
    "print(\"Standard deviation:\", results[max_sharpe][1])\n",
    "print(\"Sharpe ratio:\", results[max_sharpe][2])\n",
    "\n",
    "# Plot the results\n",
    "plt.scatter(results[:,1], results[:,0], c=results[:,2], cmap='viridis')\n",
    "plt.colorbar(label='Sharpe Ratio')\n",
    "plt.xlabel('Standard Deviation')\n",
    "plt.ylabel('Expected Return')\n",
    "plt.title('Markowitz Model')\n",
    "plt.show()\n"
   ]
  },
  {
   "attachments": {},
   "cell_type": "markdown",
   "metadata": {},
   "source": [
    "### Value at Risk (VaR)"
   ]
  },
  {
   "cell_type": "code",
   "execution_count": 2,
   "metadata": {},
   "outputs": [
    {
     "name": "stdout",
     "output_type": "stream",
     "text": [
      "The 5.0% VaR of SE is $0.09 per share.\n"
     ]
    }
   ],
   "source": [
    "import numpy as np\n",
    "import pandas as pd\n",
    "import yfinance as yf\n",
    "from scipy.stats import norm\n",
    "\n",
    "# Define the stock symbol and the number of days to use in the calculation\n",
    "symbol = 'SE'\n",
    "days = 252  # Use the past year of daily prices\n",
    "\n",
    "# Retrieve the historical stock prices from Yahoo Finance\n",
    "stock = yf.Ticker(symbol)\n",
    "data = stock.history(period=f'{days}d')['Close']\n",
    "returns = data.pct_change().dropna()\n",
    "\n",
    "# Calculate the VaR at a given confidence level (e.g. 95%)\n",
    "confidence_level = 0.05\n",
    "mean_return = returns.mean()\n",
    "std_return = returns.std()\n",
    "z_score = np.abs(norm.ppf(confidence_level))\n",
    "VaR = -(mean_return - z_score * std_return)\n",
    "\n",
    "print(f'The {confidence_level * 100}% VaR of {symbol} is ${VaR:.2f} per share.')\n"
   ]
  },
  {
   "attachments": {},
   "cell_type": "markdown",
   "metadata": {},
   "source": [
    "### Bonds - Yield, Modified Duration and Macaulay duration "
   ]
  },
  {
   "cell_type": "code",
   "execution_count": 4,
   "metadata": {},
   "outputs": [
    {
     "name": "stdout",
     "output_type": "stream",
     "text": [
      "Bond Yield: 8.0475%\n",
      "Macaulay Duration: 8.2994 years\n",
      "Modified Duration: 7.9784\n"
     ]
    }
   ],
   "source": [
    "# Bond parameters\n",
    "face_value = 10000 # face value of the bond\n",
    "coupon_rate = 0.079 # annual coupon rate\n",
    "coupon_frequency = 2 # coupon payments per year\n",
    "years_to_maturity = 10 # years to maturity of the bond\n",
    "market_price = 9900 # current market price of the bond\n",
    "\n",
    "# Calculate the periodic coupon payment\n",
    "coupon_payment = face_value * coupon_rate / coupon_frequency\n",
    "\n",
    "# Calculate the total number of coupon payments\n",
    "total_coupon_payments = years_to_maturity * coupon_frequency\n",
    "\n",
    "# Calculate the present value of the bond's future cash flows\n",
    "discount_rate_guess = 0.06 # initial guess for the yield\n",
    "present_value = 0\n",
    "for i in range(1, total_coupon_payments + 1):\n",
    "    present_value += coupon_payment / (1 + discount_rate_guess / coupon_frequency) ** i\n",
    "present_value += face_value / (1 + discount_rate_guess / coupon_frequency) ** total_coupon_payments\n",
    "\n",
    "# Use the bisection method to solve for the yield\n",
    "tolerance = 0.0001 # tolerance for the yield calculation\n",
    "yield_guess_low = 0.0\n",
    "yield_guess_high = 1.0\n",
    "while True:\n",
    "    yield_guess_mid = (yield_guess_low + yield_guess_high) / 2\n",
    "    present_value_mid = 0\n",
    "    for i in range(1, total_coupon_payments + 1):\n",
    "        present_value_mid += coupon_payment / (1 + yield_guess_mid / coupon_frequency) ** i\n",
    "    present_value_mid += face_value / (1 + yield_guess_mid / coupon_frequency) ** total_coupon_payments\n",
    "    if abs(present_value_mid - market_price) < tolerance:\n",
    "        break\n",
    "    elif present_value_mid > market_price:\n",
    "        yield_guess_low = yield_guess_mid\n",
    "    else:\n",
    "        yield_guess_high = yield_guess_mid\n",
    "bond_yield = yield_guess_mid\n",
    "\n",
    "# Calculate the Macaulay duration\n",
    "macaulay_duration = 0\n",
    "for i in range(1, total_coupon_payments + 1):\n",
    "    macaulay_duration += i * coupon_payment / (1 + bond_yield / coupon_frequency) ** i\n",
    "macaulay_duration += years_to_maturity * face_value / (1 + bond_yield / coupon_frequency) ** total_coupon_payments\n",
    "macaulay_duration /= present_value\n",
    "\n",
    "# Calculate the modified duration\n",
    "modified_duration = macaulay_duration / (1 + bond_yield / coupon_frequency)\n",
    "\n",
    "# Print the results\n",
    "print(f\"Bond Yield: {bond_yield:.4%}\")\n",
    "print(f\"Macaulay Duration: {macaulay_duration:.4f} years\")\n",
    "print(f\"Modified Duration: {modified_duration:.4f}\")\n"
   ]
  },
  {
   "attachments": {},
   "cell_type": "markdown",
   "metadata": {},
   "source": [
    "### Calculation of IRR for a Bond"
   ]
  },
  {
   "cell_type": "code",
   "execution_count": 6,
   "metadata": {},
   "outputs": [
    {
     "name": "stdout",
     "output_type": "stream",
     "text": [
      "IRR: 10.00%\n"
     ]
    }
   ],
   "source": [
    "import numpy_financial as npf\n",
    "\n",
    "# Define the bond's cash flows and timing\n",
    "cash_flows = [-1000, 100, 100, 100, 1100]\n",
    "timing = [0, 1, 2, 3, 4]\n",
    "\n",
    "# Calculate the bond's IRR\n",
    "irr = npf.irr(cash_flows)\n",
    "\n",
    "# Print the results\n",
    "print(\"IRR: {:.2%}\".format(irr))\n"
   ]
  },
  {
   "attachments": {},
   "cell_type": "markdown",
   "metadata": {},
   "source": [
    "### Calculate the IRR and MIRR of a Stock"
   ]
  },
  {
   "cell_type": "code",
   "execution_count": 20,
   "metadata": {},
   "outputs": [
    {
     "name": "stdout",
     "output_type": "stream",
     "text": [
      "[*********************100%***********************]  1 of 1 completed\n",
      "IRR: 0.21%\n",
      "MIRR could not be calculated\n"
     ]
    },
    {
     "name": "stderr",
     "output_type": "stream",
     "text": [
      "/var/folders/mf/r664td9s2dl_lprk6yy30fx80000gn/T/ipykernel_9133/1696592178.py:33: RuntimeWarning: divide by zero encountered in double_scalars\n",
      "  return (fv_inflows / (pv_outflows * (1 + reinvest_rate))) ** (1 / (n - 1)) - 1\n",
      "/var/folders/mf/r664td9s2dl_lprk6yy30fx80000gn/T/ipykernel_9133/1696592178.py:32: RuntimeWarning: overflow encountered in power\n",
      "  fv_inflows = np.sum(cf[n-1] * (1 + reinvest_rate) ** np.arange(n-1))\n",
      "/var/folders/mf/r664td9s2dl_lprk6yy30fx80000gn/T/ipykernel_9133/1696592178.py:32: RuntimeWarning: overflow encountered in multiply\n",
      "  fv_inflows = np.sum(cf[n-1] * (1 + reinvest_rate) ** np.arange(n-1))\n"
     ]
    }
   ],
   "source": [
    "import yfinance as yf\n",
    "import numpy as np\n",
    "from scipy import optimize\n",
    "import numpy_financial as npf\n",
    "from scipy.optimize import root_scalar\n",
    "\n",
    "# Set the stock ticker symbol and the start and end dates of the investment period\n",
    "ticker = 'AAPL'\n",
    "start_date = '2010-01-01'\n",
    "end_date = '2022-03-03'\n",
    "\n",
    "# Get the historical prices of the stock\n",
    "stock_data = yf.download(ticker, start=start_date, end=end_date)\n",
    "\n",
    "if len(stock_data) == 0:\n",
    "    print('No data available for the specified dates')\n",
    "else:\n",
    "    # Calculate the cash flows from the investment in the stock\n",
    "    prices = stock_data['Adj Close'].values\n",
    "    cash_flows = [-1 * prices[0]]\n",
    "    for i in range(1, len(prices)):\n",
    "        cash_flows.append(prices[i] - prices[i-1])\n",
    "\n",
    "    # Calculate the IRR of the investment\n",
    "    irr = npf.irr(cash_flows) * 100\n",
    "    print(f'IRR: {irr:.2f}%')\n",
    "\n",
    "    # Calculate the MIRR of the investment\n",
    "    def mirr(cf, reinvest_rate):\n",
    "        n = len(cf)\n",
    "        pv_outflows = np.sum(cf[:n-1] / (1 + irr / 100) ** np.arange(1, n))\n",
    "        fv_inflows = np.sum(cf[n-1] * (1 + reinvest_rate) ** np.arange(n-1))\n",
    "        return (fv_inflows / (pv_outflows * (1 + reinvest_rate))) ** (1 / (n - 1)) - 1\n",
    "\n",
    "    try:\n",
    "        res = root_scalar(lambda r: mirr(cash_flows, r - 1), bracket=[0, 2], method='brentq', rtol=1e-10)\n",
    "        mirr = (1 + res.root) ** 12 - 1\n",
    "        print(f'MIRR: {mirr:.2f}%')\n",
    "    except ValueError:\n",
    "        print('MIRR could not be calculated')\n"
   ]
  },
  {
   "attachments": {},
   "cell_type": "markdown",
   "metadata": {},
   "source": [
    "### Binomial Model"
   ]
  },
  {
   "cell_type": "code",
   "execution_count": 21,
   "metadata": {},
   "outputs": [
    {
     "name": "stdout",
     "output_type": "stream",
     "text": [
      "The value of the call option is: 9.43\n"
     ]
    }
   ],
   "source": [
    "import math\n",
    "\n",
    "def binomial_model(S, K, r, T, sigma, N):\n",
    "    delta_t = T / N\n",
    "    u = math.exp(sigma * math.sqrt(delta_t))\n",
    "    d = 1 / u\n",
    "    p = (math.exp(r * delta_t) - d) / (u - d)\n",
    "    q = 1 - p\n",
    "\n",
    "    # Calculate the stock prices at each node of the tree\n",
    "    stock_prices = []\n",
    "    for i in range(N+1):\n",
    "        stock_price = S * u**(N-i) * d**i\n",
    "        stock_prices.append(stock_price)\n",
    "\n",
    "    # Calculate the option payoffs at expiration\n",
    "    option_payoffs = []\n",
    "    for stock_price in stock_prices:\n",
    "        option_payoff = max(stock_price - K, 0)\n",
    "        option_payoffs.append(option_payoff)\n",
    "\n",
    "    # Calculate the option values at each node of the tree\n",
    "    option_values = option_payoffs[:]\n",
    "    for j in range(N):\n",
    "        for i in range(N-j):\n",
    "            option_value = math.exp(-r * delta_t) * (p * option_values[i] + q * option_values[i+1])\n",
    "            option_values[i] = option_value\n",
    "\n",
    "    option_value = option_values[0]\n",
    "\n",
    "    return option_value\n",
    "\n",
    "# Set the parameters of the option and the binomial model\n",
    "S = 100  # current stock price\n",
    "K = 105  # strike price\n",
    "r = 0.079  # risk-free interest rate\n",
    "T = 1  # time to expiration in years\n",
    "sigma = 0.2  # volatility of the stock price\n",
    "N = 100  # number of time steps in the binomial model\n",
    "\n",
    "# Calculate the value of the call option using the binomial model\n",
    "call_option_value = binomial_model(S, K, r, T, sigma, N)\n",
    "print(f\"The value of the call option is: {call_option_value:.2f}\")\n"
   ]
  },
  {
   "attachments": {},
   "cell_type": "markdown",
   "metadata": {},
   "source": [
    "### Black-Scholes Model (European Call Option)"
   ]
  },
  {
   "cell_type": "code",
   "execution_count": 22,
   "metadata": {},
   "outputs": [
    {
     "name": "stdout",
     "output_type": "stream",
     "text": [
      "The value of the call option is: 9.42\n"
     ]
    }
   ],
   "source": [
    "import math\n",
    "from scipy.stats import norm\n",
    "\n",
    "def black_scholes_call(S, K, r, T, sigma):\n",
    "    d1 = (math.log(S / K) + (r + 0.5 * sigma**2) * T) / (sigma * math.sqrt(T))\n",
    "    d2 = d1 - sigma * math.sqrt(T)\n",
    "    N_d1 = norm.cdf(d1)\n",
    "    N_d2 = norm.cdf(d2)\n",
    "\n",
    "    call_value = S * N_d1 - K * math.exp(-r * T) * N_d2\n",
    "\n",
    "    return call_value\n",
    "\n",
    "# Set the parameters of the option and the Black-Scholes model\n",
    "S = 100  # current stock price\n",
    "K = 105  # strike price\n",
    "r = 0.079  # risk-free interest rate\n",
    "T = 1  # time to expiration in years\n",
    "sigma = 0.2  # volatility of the stock price\n",
    "\n",
    "# Calculate the value of the call option using the Black-Scholes model\n",
    "call_option_value = black_scholes_call(S, K, r, T, sigma)\n",
    "print(f\"The value of the call option is: {call_option_value:.2f}\")\n"
   ]
  },
  {
   "attachments": {},
   "cell_type": "markdown",
   "metadata": {},
   "source": [
    "### Greeks"
   ]
  },
  {
   "cell_type": "code",
   "execution_count": 30,
   "metadata": {},
   "outputs": [
    {
     "name": "stdout",
     "output_type": "stream",
     "text": [
      "Requirement already satisfied: QuantLib in /Users/gauravmehta/mambaforge/envs/ds310/lib/python3.10/site-packages (1.29)\n",
      "Note: you may need to restart the kernel to use updated packages.\n"
     ]
    }
   ],
   "source": [
    "# Install QuantLib\n",
    "%pip install QuantLib"
   ]
  },
  {
   "cell_type": "code",
   "execution_count": 28,
   "metadata": {},
   "outputs": [
    {
     "name": "stdout",
     "output_type": "stream",
     "text": [
      "Option price:  6.285270889592494\n",
      "Delta:  0.4623594431123449\n",
      "Gamma:  0.019885521646641154\n",
      "Theta:  -0.01199071524258808\n",
      "Vega:  39.662081530834975\n"
     ]
    }
   ],
   "source": [
    "import QuantLib as ql\n",
    "\n",
    "# Define the option parameters\n",
    "maturity_date = ql.Date(31, 12, 2023)\n",
    "spot_price = 100\n",
    "strike_price = 105\n",
    "volatility = 0.2\n",
    "dividend_rate = 0.0\n",
    "option_type = ql.Option.Call\n",
    "\n",
    "# Set up the market data\n",
    "risk_free_rate = 0.01\n",
    "day_count = ql.Actual365Fixed()\n",
    "calendar = ql.UnitedStates(ql.UnitedStates.NYSE)\n",
    "calculation_date = ql.Date(1, 1, 2023)\n",
    "ql.Settings.instance().evaluationDate = calculation_date\n",
    "discount_curve = ql.YieldTermStructureHandle(\n",
    "    ql.FlatForward(calculation_date, risk_free_rate, day_count)\n",
    ")\n",
    "dividend_yield = ql.YieldTermStructureHandle(\n",
    "    ql.FlatForward(calculation_date, dividend_rate, day_count)\n",
    ")\n",
    "spot_handle = ql.QuoteHandle(\n",
    "    ql.SimpleQuote(spot_price)\n",
    ")\n",
    "volatility_handle = ql.BlackVolTermStructureHandle(\n",
    "    ql.BlackConstantVol(calculation_date, calendar, volatility, day_count)\n",
    ")\n",
    "\n",
    "# Set up the option payoff\n",
    "exercise = ql.EuropeanExercise(maturity_date)\n",
    "payoff = ql.PlainVanillaPayoff(option_type, strike_price)\n",
    "option = ql.VanillaOption(payoff, exercise)\n",
    "\n",
    "# Calculate the option price and Greeks\n",
    "process = ql.BlackScholesMertonProcess(spot_handle, dividend_yield, discount_curve, volatility_handle)\n",
    "option.setPricingEngine(ql.AnalyticEuropeanEngine(process))\n",
    "print(\"Option price: \", option.NPV())\n",
    "print(\"Delta: \", option.delta())\n",
    "print(\"Gamma: \", option.gamma())\n",
    "print(\"Theta: \", option.thetaPerDay())\n",
    "print(\"Vega: \", option.vega())\n"
   ]
  },
  {
   "attachments": {},
   "cell_type": "markdown",
   "metadata": {},
   "source": [
    "### Binomial Model using QuantLib"
   ]
  },
  {
   "cell_type": "code",
   "execution_count": 3,
   "metadata": {},
   "outputs": [
    {
     "name": "stdout",
     "output_type": "stream",
     "text": [
      "Option price:  6.291905290871893\n"
     ]
    }
   ],
   "source": [
    "import QuantLib as ql\n",
    "\n",
    "# Define the option parameters\n",
    "maturity_date = ql.Date(31, 12, 2023)\n",
    "spot_price = 100\n",
    "strike_price = 105\n",
    "volatility = 0.2\n",
    "dividend_rate = 0.0\n",
    "option_type = ql.Option.Call\n",
    "\n",
    "# Set up the market data\n",
    "risk_free_rate = 0.01\n",
    "day_count = ql.Actual365Fixed()\n",
    "calculation_date = ql.Date(1, 1, 2023)\n",
    "ql.Settings.instance().evaluationDate = calculation_date\n",
    "dividend_yield = ql.YieldTermStructureHandle(\n",
    "    ql.FlatForward(calculation_date, dividend_rate, day_count)\n",
    ")\n",
    "flat_ts = ql.YieldTermStructureHandle(\n",
    "    ql.FlatForward(calculation_date, risk_free_rate, day_count)\n",
    ")\n",
    "vol_ts = ql.BlackVolTermStructureHandle(\n",
    "    ql.BlackConstantVol(calculation_date, ql.NullCalendar(), volatility, day_count)\n",
    ")\n",
    "bsm_process = ql.BlackScholesMertonProcess(\n",
    "    ql.QuoteHandle(ql.SimpleQuote(spot_price)),\n",
    "    dividend_yield,\n",
    "    flat_ts,\n",
    "    vol_ts,\n",
    ")\n",
    "\n",
    "# Set up the option payoff\n",
    "exercise = ql.EuropeanExercise(maturity_date)\n",
    "payoff = ql.PlainVanillaPayoff(option_type, strike_price)\n",
    "option = ql.VanillaOption(payoff, exercise)\n",
    "\n",
    "# Set up the binomial tree\n",
    "steps = 100\n",
    "bsm_engine = ql.AnalyticEuropeanEngine(bsm_process)\n",
    "binomial_engine = ql.BinomialVanillaEngine(bsm_process, \"crr\", steps)\n",
    "option.setPricingEngine(binomial_engine)\n",
    "\n",
    "# Calculate the option price\n",
    "option_price = option.NPV()\n",
    "print(\"Option price: \", option_price)\n"
   ]
  },
  {
   "attachments": {},
   "cell_type": "markdown",
   "metadata": {},
   "source": [
    "### Fate of Forward Contracts"
   ]
  },
  {
   "cell_type": "code",
   "execution_count": 10,
   "metadata": {},
   "outputs": [
    {
     "name": "stdout",
     "output_type": "stream",
     "text": [
      "Forward Rate:  -8.994983291583196\n"
     ]
    }
   ],
   "source": [
    "import QuantLib as ql\n",
    "\n",
    "# Set up the valuation date and the yield term structure\n",
    "valuation_date = ql.Date(1, 1, 2021)\n",
    "ql.Settings.instance().evaluationDate = valuation_date\n",
    "yield_ts = ql.YieldTermStructureHandle(\n",
    "    ql.FlatForward(valuation_date, 0.01, ql.Actual365Fixed())\n",
    ")\n",
    "\n",
    "# Set up the contract parameters\n",
    "delivery_date = ql.Date(1, 1, 2022)\n",
    "maturity_date = ql.Date(1, 1, 2023)\n",
    "underlying_price = 100\n",
    "forward_price = 110\n",
    "\n",
    "# Calculate the fair forward price\n",
    "t = yield_ts.dayCounter().yearFraction(valuation_date, delivery_date)\n",
    "df = yield_ts.discount(delivery_date)\n",
    "S = underlying_price\n",
    "F = forward_price\n",
    "fair_forward_price = (S - df*F) / df\n",
    "\n",
    "print(\"Forward Rate: \", fair_forward_price)"
   ]
  },
  {
   "attachments": {},
   "cell_type": "markdown",
   "metadata": {},
   "source": [
    "### Enterprise and Equity Value"
   ]
  },
  {
   "cell_type": "code",
   "execution_count": 2,
   "metadata": {},
   "outputs": [
    {
     "name": "stdout",
     "output_type": "stream",
     "text": [
      "Enterprise Value: $443,020,185.16\n",
      "Equity Value: $435,020,185.16\n"
     ]
    }
   ],
   "source": [
    "# Define inputs\n",
    "revenue_growth_rate = 0.5\n",
    "discount_rate = 0.15\n",
    "terminal_growth_rate = 0.05\n",
    "ebitda_margin = 0.4\n",
    "capital_expenditures = 500000\n",
    "depreciation = 100000\n",
    "tax_rate = 0.3\n",
    "\n",
    "# Calculate terminal value\n",
    "ebitda_last_year = 20000000\n",
    "ebitda_last_year_growth = ebitda_last_year * (1 + revenue_growth_rate)\n",
    "terminal_value = (ebitda_last_year_growth * (1 + terminal_growth_rate)) / (discount_rate - terminal_growth_rate)\n",
    "\n",
    "# Calculate free cash flows\n",
    "fcf = []\n",
    "for i in range(1, 6):\n",
    "    ebitda = ebitda_last_year_growth * (1 + revenue_growth_rate) ** i\n",
    "    taxes = tax_rate * (ebitda - depreciation - capital_expenditures)\n",
    "    free_cash_flow = ebitda - taxes - capital_expenditures + depreciation\n",
    "    fcf.append(free_cash_flow)\n",
    "\n",
    "# Calculate discounted free cash flows\n",
    "npv = sum([x / (1 + discount_rate) ** i for i, x in enumerate(fcf)])\n",
    "npv += terminal_value / (1 + discount_rate) ** 5\n",
    "\n",
    "# Calculate enterprise value\n",
    "enterprise_value = npv\n",
    "\n",
    "# Calculate equity value\n",
    "debt = 10000000\n",
    "cash = 2000000\n",
    "equity_value = enterprise_value - debt + cash\n",
    "\n",
    "# Print results\n",
    "print(\"Enterprise Value: ${:,.2f}\".format(enterprise_value))\n",
    "print(\"Equity Value: ${:,.2f}\".format(equity_value))\n"
   ]
  },
  {
   "attachments": {},
   "cell_type": "markdown",
   "metadata": {},
   "source": [
    "### Factor Investing"
   ]
  },
  {
   "attachments": {},
   "cell_type": "markdown",
   "metadata": {},
   "source": [
    "#### For best results, run the query during market hours"
   ]
  },
  {
   "cell_type": "code",
   "execution_count": 1,
   "metadata": {},
   "outputs": [
    {
     "name": "stdout",
     "output_type": "stream",
     "text": [
      "Error getting data for ['ZS']: HTTPSConnectionPool(host='query2.finance.yahoo.com', port=443): Max retries exceeded with url: /v10/finance/quoteSummary/ZS?modules=price&formatted=false&lang=en-US&region=US&corsDomain=finance.yahoo.com (Caused by ConnectTimeoutError(<urllib3.connection.HTTPSConnection object at 0x15676dea0>, 'Connection to query2.finance.yahoo.com timed out. (connect timeout=5)'))\n",
      "Error getting data for ['S']: HTTPSConnectionPool(host='query2.finance.yahoo.com', port=443): Max retries exceeded with url: /v10/finance/quoteSummary/S?modules=price&formatted=false&lang=en-US&region=US&corsDomain=finance.yahoo.com (Caused by ConnectTimeoutError(<urllib3.connection.HTTPSConnection object at 0x15676d990>, 'Connection to query2.finance.yahoo.com timed out. (connect timeout=5)'))\n",
      "Error getting data for ['CRWD']: HTTPSConnectionPool(host='query2.finance.yahoo.com', port=443): Max retries exceeded with url: /v10/finance/quoteSummary/CRWD?modules=price&formatted=false&lang=en-US&region=US&corsDomain=finance.yahoo.com (Caused by ConnectTimeoutError(<urllib3.connection.HTTPSConnection object at 0x15676ee90>, 'Connection to query2.finance.yahoo.com timed out. (connect timeout=5)'))\n"
     ]
    }
   ],
   "source": [
    "# Shifted over to yahooquery since yfinance was causing issues with decryption\n",
    "\n",
    "from yahooquery import Ticker\n",
    "import pandas as pd\n",
    "\n",
    "# Define the quality factor using return on equity (ROE)\n",
    "quality_threshold = 0.15\n",
    "\n",
    "# Define the momentum factor using 12-month returns\n",
    "momentum_period = 12\n",
    "\n",
    "# Define the minimum market cap for screening\n",
    "min_market_cap = 500000000\n",
    "\n",
    "# Download stock data from Yahoo Finance\n",
    "tickers = ['ZS', 'S', 'CRWD', 'PANW', 'FTNT', 'NET']\n",
    "ticker_objs = [Ticker(ticker) for ticker in tickers]\n",
    "\n",
    "# Filter stocks based on quality and momentum factors\n",
    "quality_scores = []\n",
    "momentum_scores = []\n",
    "for ticker_obj in ticker_objs:\n",
    "    try:\n",
    "        price = ticker_obj.price\n",
    "        market_cap = ticker_obj.summary_detail[ticker_obj.symbols[0]]['marketCap']\n",
    "    except Exception as e:\n",
    "        print(f\"Error getting data for {ticker_obj.symbols}: {str(e)}\")\n",
    "        continue\n",
    "    if market_cap < min_market_cap:\n",
    "        continue\n",
    "    if len(price) < momentum_period:\n",
    "        continue\n",
    "    roe = price.iloc[-1] / price.iloc[0] - 1\n",
    "    if roe < quality_threshold:\n",
    "        continue\n",
    "    momentum = price.iloc[-1] / price.iloc[-momentum_period - 1] - 1\n",
    "    quality_scores.append(roe)\n",
    "    momentum_scores.append(momentum)\n",
    "\n",
    "# Generate a ranking of the top stocks based on quality and momentum scores\n",
    "ranking = pd.DataFrame({'quality': quality_scores, 'momentum': momentum_scores})\n",
    "ranking['score'] = ranking['quality'] * ranking['momentum']\n",
    "ranking = ranking.sort_values('score', ascending=False)\n",
    "\n",
    "# Print the top 5 stocks based on the ranking\n",
    "for i, ticker in enumerate(ranking.index[:5]):\n",
    "    print(f\"{i + 1}. {ticker}: {ranking.loc[ticker, 'score']}\")\n"
   ]
  },
  {
   "attachments": {},
   "cell_type": "markdown",
   "metadata": {},
   "source": [
    "##### I am also including my old code for yfinance below for reference purposes"
   ]
  },
  {
   "cell_type": "code",
   "execution_count": 2,
   "metadata": {},
   "outputs": [
    {
     "ename": "ConnectTimeout",
     "evalue": "HTTPSConnectionPool(host='finance.yahoo.com', port=443): Max retries exceeded with url: /quote/ZS (Caused by ConnectTimeoutError(<urllib3.connection.HTTPSConnection object at 0x157731180>, 'Connection to finance.yahoo.com timed out. (connect timeout=30)'))",
     "output_type": "error",
     "traceback": [
      "\u001b[0;31m---------------------------------------------------------------------------\u001b[0m",
      "\u001b[0;31mTimeoutError\u001b[0m                              Traceback (most recent call last)",
      "File \u001b[0;32m~/mambaforge/envs/ds310/lib/python3.10/site-packages/urllib3/connection.py:174\u001b[0m, in \u001b[0;36mHTTPConnection._new_conn\u001b[0;34m(self)\u001b[0m\n\u001b[1;32m    173\u001b[0m \u001b[39mtry\u001b[39;00m:\n\u001b[0;32m--> 174\u001b[0m     conn \u001b[39m=\u001b[39m connection\u001b[39m.\u001b[39;49mcreate_connection(\n\u001b[1;32m    175\u001b[0m         (\u001b[39mself\u001b[39;49m\u001b[39m.\u001b[39;49m_dns_host, \u001b[39mself\u001b[39;49m\u001b[39m.\u001b[39;49mport), \u001b[39mself\u001b[39;49m\u001b[39m.\u001b[39;49mtimeout, \u001b[39m*\u001b[39;49m\u001b[39m*\u001b[39;49mextra_kw\n\u001b[1;32m    176\u001b[0m     )\n\u001b[1;32m    178\u001b[0m \u001b[39mexcept\u001b[39;00m SocketTimeout:\n",
      "File \u001b[0;32m~/mambaforge/envs/ds310/lib/python3.10/site-packages/urllib3/util/connection.py:95\u001b[0m, in \u001b[0;36mcreate_connection\u001b[0;34m(address, timeout, source_address, socket_options)\u001b[0m\n\u001b[1;32m     94\u001b[0m \u001b[39mif\u001b[39;00m err \u001b[39mis\u001b[39;00m \u001b[39mnot\u001b[39;00m \u001b[39mNone\u001b[39;00m:\n\u001b[0;32m---> 95\u001b[0m     \u001b[39mraise\u001b[39;00m err\n\u001b[1;32m     97\u001b[0m \u001b[39mraise\u001b[39;00m socket\u001b[39m.\u001b[39merror(\u001b[39m\"\u001b[39m\u001b[39mgetaddrinfo returns an empty list\u001b[39m\u001b[39m\"\u001b[39m)\n",
      "File \u001b[0;32m~/mambaforge/envs/ds310/lib/python3.10/site-packages/urllib3/util/connection.py:85\u001b[0m, in \u001b[0;36mcreate_connection\u001b[0;34m(address, timeout, source_address, socket_options)\u001b[0m\n\u001b[1;32m     84\u001b[0m     sock\u001b[39m.\u001b[39mbind(source_address)\n\u001b[0;32m---> 85\u001b[0m sock\u001b[39m.\u001b[39;49mconnect(sa)\n\u001b[1;32m     86\u001b[0m \u001b[39mreturn\u001b[39;00m sock\n",
      "\u001b[0;31mTimeoutError\u001b[0m: timed out",
      "\nDuring handling of the above exception, another exception occurred:\n",
      "\u001b[0;31mConnectTimeoutError\u001b[0m                       Traceback (most recent call last)",
      "File \u001b[0;32m~/mambaforge/envs/ds310/lib/python3.10/site-packages/urllib3/connectionpool.py:703\u001b[0m, in \u001b[0;36mHTTPConnectionPool.urlopen\u001b[0;34m(self, method, url, body, headers, retries, redirect, assert_same_host, timeout, pool_timeout, release_conn, chunked, body_pos, **response_kw)\u001b[0m\n\u001b[1;32m    702\u001b[0m \u001b[39m# Make the request on the httplib connection object.\u001b[39;00m\n\u001b[0;32m--> 703\u001b[0m httplib_response \u001b[39m=\u001b[39m \u001b[39mself\u001b[39;49m\u001b[39m.\u001b[39;49m_make_request(\n\u001b[1;32m    704\u001b[0m     conn,\n\u001b[1;32m    705\u001b[0m     method,\n\u001b[1;32m    706\u001b[0m     url,\n\u001b[1;32m    707\u001b[0m     timeout\u001b[39m=\u001b[39;49mtimeout_obj,\n\u001b[1;32m    708\u001b[0m     body\u001b[39m=\u001b[39;49mbody,\n\u001b[1;32m    709\u001b[0m     headers\u001b[39m=\u001b[39;49mheaders,\n\u001b[1;32m    710\u001b[0m     chunked\u001b[39m=\u001b[39;49mchunked,\n\u001b[1;32m    711\u001b[0m )\n\u001b[1;32m    713\u001b[0m \u001b[39m# If we're going to release the connection in ``finally:``, then\u001b[39;00m\n\u001b[1;32m    714\u001b[0m \u001b[39m# the response doesn't need to know about the connection. Otherwise\u001b[39;00m\n\u001b[1;32m    715\u001b[0m \u001b[39m# it will also try to release it and we'll have a double-release\u001b[39;00m\n\u001b[1;32m    716\u001b[0m \u001b[39m# mess.\u001b[39;00m\n",
      "File \u001b[0;32m~/mambaforge/envs/ds310/lib/python3.10/site-packages/urllib3/connectionpool.py:386\u001b[0m, in \u001b[0;36mHTTPConnectionPool._make_request\u001b[0;34m(self, conn, method, url, timeout, chunked, **httplib_request_kw)\u001b[0m\n\u001b[1;32m    385\u001b[0m \u001b[39mtry\u001b[39;00m:\n\u001b[0;32m--> 386\u001b[0m     \u001b[39mself\u001b[39;49m\u001b[39m.\u001b[39;49m_validate_conn(conn)\n\u001b[1;32m    387\u001b[0m \u001b[39mexcept\u001b[39;00m (SocketTimeout, BaseSSLError) \u001b[39mas\u001b[39;00m e:\n\u001b[1;32m    388\u001b[0m     \u001b[39m# Py2 raises this as a BaseSSLError, Py3 raises it as socket timeout.\u001b[39;00m\n",
      "File \u001b[0;32m~/mambaforge/envs/ds310/lib/python3.10/site-packages/urllib3/connectionpool.py:1042\u001b[0m, in \u001b[0;36mHTTPSConnectionPool._validate_conn\u001b[0;34m(self, conn)\u001b[0m\n\u001b[1;32m   1041\u001b[0m \u001b[39mif\u001b[39;00m \u001b[39mnot\u001b[39;00m \u001b[39mgetattr\u001b[39m(conn, \u001b[39m\"\u001b[39m\u001b[39msock\u001b[39m\u001b[39m\"\u001b[39m, \u001b[39mNone\u001b[39;00m):  \u001b[39m# AppEngine might not have  `.sock`\u001b[39;00m\n\u001b[0;32m-> 1042\u001b[0m     conn\u001b[39m.\u001b[39;49mconnect()\n\u001b[1;32m   1044\u001b[0m \u001b[39mif\u001b[39;00m \u001b[39mnot\u001b[39;00m conn\u001b[39m.\u001b[39mis_verified:\n",
      "File \u001b[0;32m~/mambaforge/envs/ds310/lib/python3.10/site-packages/urllib3/connection.py:358\u001b[0m, in \u001b[0;36mHTTPSConnection.connect\u001b[0;34m(self)\u001b[0m\n\u001b[1;32m    356\u001b[0m \u001b[39mdef\u001b[39;00m \u001b[39mconnect\u001b[39m(\u001b[39mself\u001b[39m):\n\u001b[1;32m    357\u001b[0m     \u001b[39m# Add certificate verification\u001b[39;00m\n\u001b[0;32m--> 358\u001b[0m     \u001b[39mself\u001b[39m\u001b[39m.\u001b[39msock \u001b[39m=\u001b[39m conn \u001b[39m=\u001b[39m \u001b[39mself\u001b[39;49m\u001b[39m.\u001b[39;49m_new_conn()\n\u001b[1;32m    359\u001b[0m     hostname \u001b[39m=\u001b[39m \u001b[39mself\u001b[39m\u001b[39m.\u001b[39mhost\n",
      "File \u001b[0;32m~/mambaforge/envs/ds310/lib/python3.10/site-packages/urllib3/connection.py:179\u001b[0m, in \u001b[0;36mHTTPConnection._new_conn\u001b[0;34m(self)\u001b[0m\n\u001b[1;32m    178\u001b[0m \u001b[39mexcept\u001b[39;00m SocketTimeout:\n\u001b[0;32m--> 179\u001b[0m     \u001b[39mraise\u001b[39;00m ConnectTimeoutError(\n\u001b[1;32m    180\u001b[0m         \u001b[39mself\u001b[39m,\n\u001b[1;32m    181\u001b[0m         \u001b[39m\"\u001b[39m\u001b[39mConnection to \u001b[39m\u001b[39m%s\u001b[39;00m\u001b[39m timed out. (connect timeout=\u001b[39m\u001b[39m%s\u001b[39;00m\u001b[39m)\u001b[39m\u001b[39m\"\u001b[39m\n\u001b[1;32m    182\u001b[0m         \u001b[39m%\u001b[39m (\u001b[39mself\u001b[39m\u001b[39m.\u001b[39mhost, \u001b[39mself\u001b[39m\u001b[39m.\u001b[39mtimeout),\n\u001b[1;32m    183\u001b[0m     )\n\u001b[1;32m    185\u001b[0m \u001b[39mexcept\u001b[39;00m SocketError \u001b[39mas\u001b[39;00m e:\n",
      "\u001b[0;31mConnectTimeoutError\u001b[0m: (<urllib3.connection.HTTPSConnection object at 0x157731180>, 'Connection to finance.yahoo.com timed out. (connect timeout=30)')",
      "\nDuring handling of the above exception, another exception occurred:\n",
      "\u001b[0;31mMaxRetryError\u001b[0m                             Traceback (most recent call last)",
      "File \u001b[0;32m~/mambaforge/envs/ds310/lib/python3.10/site-packages/requests/adapters.py:489\u001b[0m, in \u001b[0;36mHTTPAdapter.send\u001b[0;34m(self, request, stream, timeout, verify, cert, proxies)\u001b[0m\n\u001b[1;32m    488\u001b[0m \u001b[39mif\u001b[39;00m \u001b[39mnot\u001b[39;00m chunked:\n\u001b[0;32m--> 489\u001b[0m     resp \u001b[39m=\u001b[39m conn\u001b[39m.\u001b[39;49murlopen(\n\u001b[1;32m    490\u001b[0m         method\u001b[39m=\u001b[39;49mrequest\u001b[39m.\u001b[39;49mmethod,\n\u001b[1;32m    491\u001b[0m         url\u001b[39m=\u001b[39;49murl,\n\u001b[1;32m    492\u001b[0m         body\u001b[39m=\u001b[39;49mrequest\u001b[39m.\u001b[39;49mbody,\n\u001b[1;32m    493\u001b[0m         headers\u001b[39m=\u001b[39;49mrequest\u001b[39m.\u001b[39;49mheaders,\n\u001b[1;32m    494\u001b[0m         redirect\u001b[39m=\u001b[39;49m\u001b[39mFalse\u001b[39;49;00m,\n\u001b[1;32m    495\u001b[0m         assert_same_host\u001b[39m=\u001b[39;49m\u001b[39mFalse\u001b[39;49;00m,\n\u001b[1;32m    496\u001b[0m         preload_content\u001b[39m=\u001b[39;49m\u001b[39mFalse\u001b[39;49;00m,\n\u001b[1;32m    497\u001b[0m         decode_content\u001b[39m=\u001b[39;49m\u001b[39mFalse\u001b[39;49;00m,\n\u001b[1;32m    498\u001b[0m         retries\u001b[39m=\u001b[39;49m\u001b[39mself\u001b[39;49m\u001b[39m.\u001b[39;49mmax_retries,\n\u001b[1;32m    499\u001b[0m         timeout\u001b[39m=\u001b[39;49mtimeout,\n\u001b[1;32m    500\u001b[0m     )\n\u001b[1;32m    502\u001b[0m \u001b[39m# Send the request.\u001b[39;00m\n\u001b[1;32m    503\u001b[0m \u001b[39melse\u001b[39;00m:\n",
      "File \u001b[0;32m~/mambaforge/envs/ds310/lib/python3.10/site-packages/urllib3/connectionpool.py:787\u001b[0m, in \u001b[0;36mHTTPConnectionPool.urlopen\u001b[0;34m(self, method, url, body, headers, retries, redirect, assert_same_host, timeout, pool_timeout, release_conn, chunked, body_pos, **response_kw)\u001b[0m\n\u001b[1;32m    785\u001b[0m     e \u001b[39m=\u001b[39m ProtocolError(\u001b[39m\"\u001b[39m\u001b[39mConnection aborted.\u001b[39m\u001b[39m\"\u001b[39m, e)\n\u001b[0;32m--> 787\u001b[0m retries \u001b[39m=\u001b[39m retries\u001b[39m.\u001b[39;49mincrement(\n\u001b[1;32m    788\u001b[0m     method, url, error\u001b[39m=\u001b[39;49me, _pool\u001b[39m=\u001b[39;49m\u001b[39mself\u001b[39;49m, _stacktrace\u001b[39m=\u001b[39;49msys\u001b[39m.\u001b[39;49mexc_info()[\u001b[39m2\u001b[39;49m]\n\u001b[1;32m    789\u001b[0m )\n\u001b[1;32m    790\u001b[0m retries\u001b[39m.\u001b[39msleep()\n",
      "File \u001b[0;32m~/mambaforge/envs/ds310/lib/python3.10/site-packages/urllib3/util/retry.py:592\u001b[0m, in \u001b[0;36mRetry.increment\u001b[0;34m(self, method, url, response, error, _pool, _stacktrace)\u001b[0m\n\u001b[1;32m    591\u001b[0m \u001b[39mif\u001b[39;00m new_retry\u001b[39m.\u001b[39mis_exhausted():\n\u001b[0;32m--> 592\u001b[0m     \u001b[39mraise\u001b[39;00m MaxRetryError(_pool, url, error \u001b[39mor\u001b[39;00m ResponseError(cause))\n\u001b[1;32m    594\u001b[0m log\u001b[39m.\u001b[39mdebug(\u001b[39m\"\u001b[39m\u001b[39mIncremented Retry for (url=\u001b[39m\u001b[39m'\u001b[39m\u001b[39m%s\u001b[39;00m\u001b[39m'\u001b[39m\u001b[39m): \u001b[39m\u001b[39m%r\u001b[39;00m\u001b[39m\"\u001b[39m, url, new_retry)\n",
      "\u001b[0;31mMaxRetryError\u001b[0m: HTTPSConnectionPool(host='finance.yahoo.com', port=443): Max retries exceeded with url: /quote/ZS (Caused by ConnectTimeoutError(<urllib3.connection.HTTPSConnection object at 0x157731180>, 'Connection to finance.yahoo.com timed out. (connect timeout=30)'))",
      "\nDuring handling of the above exception, another exception occurred:\n",
      "\u001b[0;31mConnectTimeout\u001b[0m                            Traceback (most recent call last)",
      "Cell \u001b[0;32mIn[2], line 24\u001b[0m\n\u001b[1;32m     22\u001b[0m \u001b[39mif\u001b[39;00m \u001b[39mlen\u001b[39m(history) \u001b[39m<\u001b[39m momentum_period:\n\u001b[1;32m     23\u001b[0m     \u001b[39mcontinue\u001b[39;00m\n\u001b[0;32m---> 24\u001b[0m market_cap \u001b[39m=\u001b[39m ticker_obj\u001b[39m.\u001b[39;49minfo[\u001b[39m'\u001b[39m\u001b[39mmarketCap\u001b[39m\u001b[39m'\u001b[39m]\n\u001b[1;32m     25\u001b[0m \u001b[39mif\u001b[39;00m market_cap \u001b[39m<\u001b[39m min_market_cap:\n\u001b[1;32m     26\u001b[0m     \u001b[39mcontinue\u001b[39;00m\n",
      "File \u001b[0;32m~/mambaforge/envs/ds310/lib/python3.10/site-packages/yfinance/ticker.py:138\u001b[0m, in \u001b[0;36mTicker.info\u001b[0;34m(self)\u001b[0m\n\u001b[1;32m    136\u001b[0m \u001b[39m@property\u001b[39m\n\u001b[1;32m    137\u001b[0m \u001b[39mdef\u001b[39;00m \u001b[39minfo\u001b[39m(\u001b[39mself\u001b[39m) \u001b[39m-\u001b[39m\u001b[39m>\u001b[39m \u001b[39mdict\u001b[39m:\n\u001b[0;32m--> 138\u001b[0m     \u001b[39mreturn\u001b[39;00m \u001b[39mself\u001b[39;49m\u001b[39m.\u001b[39;49mget_info()\n",
      "File \u001b[0;32m~/mambaforge/envs/ds310/lib/python3.10/site-packages/yfinance/base.py:1475\u001b[0m, in \u001b[0;36mTickerBase.get_info\u001b[0;34m(self, proxy)\u001b[0m\n\u001b[1;32m   1473\u001b[0m \u001b[39mdef\u001b[39;00m \u001b[39mget_info\u001b[39m(\u001b[39mself\u001b[39m, proxy\u001b[39m=\u001b[39m\u001b[39mNone\u001b[39;00m) \u001b[39m-\u001b[39m\u001b[39m>\u001b[39m \u001b[39mdict\u001b[39m:\n\u001b[1;32m   1474\u001b[0m     \u001b[39mself\u001b[39m\u001b[39m.\u001b[39m_quote\u001b[39m.\u001b[39mproxy \u001b[39m=\u001b[39m proxy\n\u001b[0;32m-> 1475\u001b[0m     data \u001b[39m=\u001b[39m \u001b[39mself\u001b[39;49m\u001b[39m.\u001b[39;49m_quote\u001b[39m.\u001b[39;49minfo\n\u001b[1;32m   1476\u001b[0m     \u001b[39mreturn\u001b[39;00m data\n",
      "File \u001b[0;32m~/mambaforge/envs/ds310/lib/python3.10/site-packages/yfinance/scrapers/quote.py:95\u001b[0m, in \u001b[0;36mQuote.info\u001b[0;34m(self)\u001b[0m\n\u001b[1;32m     92\u001b[0m \u001b[39m@property\u001b[39m\n\u001b[1;32m     93\u001b[0m \u001b[39mdef\u001b[39;00m \u001b[39minfo\u001b[39m(\u001b[39mself\u001b[39m) \u001b[39m-\u001b[39m\u001b[39m>\u001b[39m \u001b[39mdict\u001b[39m:\n\u001b[1;32m     94\u001b[0m     \u001b[39mif\u001b[39;00m \u001b[39mself\u001b[39m\u001b[39m.\u001b[39m_info \u001b[39mis\u001b[39;00m \u001b[39mNone\u001b[39;00m:\n\u001b[0;32m---> 95\u001b[0m         \u001b[39mself\u001b[39;49m\u001b[39m.\u001b[39;49m_scrape(\u001b[39mself\u001b[39;49m\u001b[39m.\u001b[39;49mproxy)\n\u001b[1;32m     96\u001b[0m         \u001b[39mself\u001b[39m\u001b[39m.\u001b[39m_scrape_complementary(\u001b[39mself\u001b[39m\u001b[39m.\u001b[39mproxy)\n\u001b[1;32m     98\u001b[0m     \u001b[39mreturn\u001b[39;00m \u001b[39mself\u001b[39m\u001b[39m.\u001b[39m_info\n",
      "File \u001b[0;32m~/mambaforge/envs/ds310/lib/python3.10/site-packages/yfinance/scrapers/quote.py:124\u001b[0m, in \u001b[0;36mQuote._scrape\u001b[0;34m(self, proxy)\u001b[0m\n\u001b[1;32m    121\u001b[0m \u001b[39mself\u001b[39m\u001b[39m.\u001b[39m_already_scraped \u001b[39m=\u001b[39m \u001b[39mTrue\u001b[39;00m\n\u001b[1;32m    123\u001b[0m \u001b[39m# get info and sustainability\u001b[39;00m\n\u001b[0;32m--> 124\u001b[0m json_data \u001b[39m=\u001b[39m \u001b[39mself\u001b[39;49m\u001b[39m.\u001b[39;49m_data\u001b[39m.\u001b[39;49mget_json_data_stores(proxy\u001b[39m=\u001b[39;49mproxy)\n\u001b[1;32m    125\u001b[0m \u001b[39mtry\u001b[39;00m:\n\u001b[1;32m    126\u001b[0m     quote_summary_store \u001b[39m=\u001b[39m json_data[\u001b[39m'\u001b[39m\u001b[39mQuoteSummaryStore\u001b[39m\u001b[39m'\u001b[39m]\n",
      "File \u001b[0;32m~/mambaforge/envs/ds310/lib/python3.10/site-packages/yfinance/data.py:41\u001b[0m, in \u001b[0;36mlru_cache_freezeargs.<locals>.wrapped\u001b[0;34m(*args, **kwargs)\u001b[0m\n\u001b[1;32m     39\u001b[0m args \u001b[39m=\u001b[39m \u001b[39mtuple\u001b[39m([\u001b[39mtuple\u001b[39m(arg) \u001b[39mif\u001b[39;00m \u001b[39misinstance\u001b[39m(arg, \u001b[39mlist\u001b[39m) \u001b[39melse\u001b[39;00m arg \u001b[39mfor\u001b[39;00m arg \u001b[39min\u001b[39;00m args])\n\u001b[1;32m     40\u001b[0m kwargs \u001b[39m=\u001b[39m {k: \u001b[39mtuple\u001b[39m(v) \u001b[39mif\u001b[39;00m \u001b[39misinstance\u001b[39m(v, \u001b[39mlist\u001b[39m) \u001b[39melse\u001b[39;00m v \u001b[39mfor\u001b[39;00m k, v \u001b[39min\u001b[39;00m kwargs\u001b[39m.\u001b[39mitems()}\n\u001b[0;32m---> 41\u001b[0m \u001b[39mreturn\u001b[39;00m func(\u001b[39m*\u001b[39;49margs, \u001b[39m*\u001b[39;49m\u001b[39m*\u001b[39;49mkwargs)\n",
      "File \u001b[0;32m~/mambaforge/envs/ds310/lib/python3.10/site-packages/yfinance/data.py:277\u001b[0m, in \u001b[0;36mTickerData.get_json_data_stores\u001b[0;34m(self, sub_page, proxy)\u001b[0m\n\u001b[1;32m    274\u001b[0m \u001b[39melse\u001b[39;00m:\n\u001b[1;32m    275\u001b[0m     ticker_url \u001b[39m=\u001b[39m \u001b[39m\"\u001b[39m\u001b[39m{}\u001b[39;00m\u001b[39m/\u001b[39m\u001b[39m{}\u001b[39;00m\u001b[39m\"\u001b[39m\u001b[39m.\u001b[39mformat(_SCRAPE_URL_, \u001b[39mself\u001b[39m\u001b[39m.\u001b[39mticker)\n\u001b[0;32m--> 277\u001b[0m response \u001b[39m=\u001b[39m \u001b[39mself\u001b[39;49m\u001b[39m.\u001b[39;49mget(url\u001b[39m=\u001b[39;49mticker_url, proxy\u001b[39m=\u001b[39;49mproxy)\n\u001b[1;32m    278\u001b[0m html \u001b[39m=\u001b[39m response\u001b[39m.\u001b[39mtext\n\u001b[1;32m    280\u001b[0m \u001b[39m# The actual json-data for stores is in a javascript assignment in the webpage\u001b[39;00m\n",
      "File \u001b[0;32m~/mambaforge/envs/ds310/lib/python3.10/site-packages/yfinance/data.py:184\u001b[0m, in \u001b[0;36mTickerData.get\u001b[0;34m(self, url, user_agent_headers, params, proxy, timeout)\u001b[0m\n\u001b[1;32m    182\u001b[0m \u001b[39mdef\u001b[39;00m \u001b[39mget\u001b[39m(\u001b[39mself\u001b[39m, url, user_agent_headers\u001b[39m=\u001b[39m\u001b[39mNone\u001b[39;00m, params\u001b[39m=\u001b[39m\u001b[39mNone\u001b[39;00m, proxy\u001b[39m=\u001b[39m\u001b[39mNone\u001b[39;00m, timeout\u001b[39m=\u001b[39m\u001b[39m30\u001b[39m):\n\u001b[1;32m    183\u001b[0m     proxy \u001b[39m=\u001b[39m \u001b[39mself\u001b[39m\u001b[39m.\u001b[39m_get_proxy(proxy)\n\u001b[0;32m--> 184\u001b[0m     response \u001b[39m=\u001b[39m \u001b[39mself\u001b[39;49m\u001b[39m.\u001b[39;49m_session\u001b[39m.\u001b[39;49mget(\n\u001b[1;32m    185\u001b[0m         url\u001b[39m=\u001b[39;49murl,\n\u001b[1;32m    186\u001b[0m         params\u001b[39m=\u001b[39;49mparams,\n\u001b[1;32m    187\u001b[0m         proxies\u001b[39m=\u001b[39;49mproxy,\n\u001b[1;32m    188\u001b[0m         timeout\u001b[39m=\u001b[39;49mtimeout,\n\u001b[1;32m    189\u001b[0m         headers\u001b[39m=\u001b[39;49muser_agent_headers \u001b[39mor\u001b[39;49;00m \u001b[39mself\u001b[39;49m\u001b[39m.\u001b[39;49muser_agent_headers)\n\u001b[1;32m    190\u001b[0m     \u001b[39mreturn\u001b[39;00m response\n",
      "File \u001b[0;32m~/mambaforge/envs/ds310/lib/python3.10/site-packages/requests/api.py:73\u001b[0m, in \u001b[0;36mget\u001b[0;34m(url, params, **kwargs)\u001b[0m\n\u001b[1;32m     62\u001b[0m \u001b[39mdef\u001b[39;00m \u001b[39mget\u001b[39m(url, params\u001b[39m=\u001b[39m\u001b[39mNone\u001b[39;00m, \u001b[39m*\u001b[39m\u001b[39m*\u001b[39mkwargs):\n\u001b[1;32m     63\u001b[0m \u001b[39m    \u001b[39m\u001b[39mr\u001b[39m\u001b[39m\"\"\"Sends a GET request.\u001b[39;00m\n\u001b[1;32m     64\u001b[0m \n\u001b[1;32m     65\u001b[0m \u001b[39m    :param url: URL for the new :class:`Request` object.\u001b[39;00m\n\u001b[0;32m   (...)\u001b[0m\n\u001b[1;32m     70\u001b[0m \u001b[39m    :rtype: requests.Response\u001b[39;00m\n\u001b[1;32m     71\u001b[0m \u001b[39m    \"\"\"\u001b[39;00m\n\u001b[0;32m---> 73\u001b[0m     \u001b[39mreturn\u001b[39;00m request(\u001b[39m\"\u001b[39;49m\u001b[39mget\u001b[39;49m\u001b[39m\"\u001b[39;49m, url, params\u001b[39m=\u001b[39;49mparams, \u001b[39m*\u001b[39;49m\u001b[39m*\u001b[39;49mkwargs)\n",
      "File \u001b[0;32m~/mambaforge/envs/ds310/lib/python3.10/site-packages/requests/api.py:59\u001b[0m, in \u001b[0;36mrequest\u001b[0;34m(method, url, **kwargs)\u001b[0m\n\u001b[1;32m     55\u001b[0m \u001b[39m# By using the 'with' statement we are sure the session is closed, thus we\u001b[39;00m\n\u001b[1;32m     56\u001b[0m \u001b[39m# avoid leaving sockets open which can trigger a ResourceWarning in some\u001b[39;00m\n\u001b[1;32m     57\u001b[0m \u001b[39m# cases, and look like a memory leak in others.\u001b[39;00m\n\u001b[1;32m     58\u001b[0m \u001b[39mwith\u001b[39;00m sessions\u001b[39m.\u001b[39mSession() \u001b[39mas\u001b[39;00m session:\n\u001b[0;32m---> 59\u001b[0m     \u001b[39mreturn\u001b[39;00m session\u001b[39m.\u001b[39;49mrequest(method\u001b[39m=\u001b[39;49mmethod, url\u001b[39m=\u001b[39;49murl, \u001b[39m*\u001b[39;49m\u001b[39m*\u001b[39;49mkwargs)\n",
      "File \u001b[0;32m~/mambaforge/envs/ds310/lib/python3.10/site-packages/requests/sessions.py:587\u001b[0m, in \u001b[0;36mSession.request\u001b[0;34m(self, method, url, params, data, headers, cookies, files, auth, timeout, allow_redirects, proxies, hooks, stream, verify, cert, json)\u001b[0m\n\u001b[1;32m    582\u001b[0m send_kwargs \u001b[39m=\u001b[39m {\n\u001b[1;32m    583\u001b[0m     \u001b[39m\"\u001b[39m\u001b[39mtimeout\u001b[39m\u001b[39m\"\u001b[39m: timeout,\n\u001b[1;32m    584\u001b[0m     \u001b[39m\"\u001b[39m\u001b[39mallow_redirects\u001b[39m\u001b[39m\"\u001b[39m: allow_redirects,\n\u001b[1;32m    585\u001b[0m }\n\u001b[1;32m    586\u001b[0m send_kwargs\u001b[39m.\u001b[39mupdate(settings)\n\u001b[0;32m--> 587\u001b[0m resp \u001b[39m=\u001b[39m \u001b[39mself\u001b[39;49m\u001b[39m.\u001b[39;49msend(prep, \u001b[39m*\u001b[39;49m\u001b[39m*\u001b[39;49msend_kwargs)\n\u001b[1;32m    589\u001b[0m \u001b[39mreturn\u001b[39;00m resp\n",
      "File \u001b[0;32m~/mambaforge/envs/ds310/lib/python3.10/site-packages/requests/sessions.py:701\u001b[0m, in \u001b[0;36mSession.send\u001b[0;34m(self, request, **kwargs)\u001b[0m\n\u001b[1;32m    698\u001b[0m start \u001b[39m=\u001b[39m preferred_clock()\n\u001b[1;32m    700\u001b[0m \u001b[39m# Send the request\u001b[39;00m\n\u001b[0;32m--> 701\u001b[0m r \u001b[39m=\u001b[39m adapter\u001b[39m.\u001b[39;49msend(request, \u001b[39m*\u001b[39;49m\u001b[39m*\u001b[39;49mkwargs)\n\u001b[1;32m    703\u001b[0m \u001b[39m# Total elapsed time of the request (approximately)\u001b[39;00m\n\u001b[1;32m    704\u001b[0m elapsed \u001b[39m=\u001b[39m preferred_clock() \u001b[39m-\u001b[39m start\n",
      "File \u001b[0;32m~/mambaforge/envs/ds310/lib/python3.10/site-packages/requests/adapters.py:553\u001b[0m, in \u001b[0;36mHTTPAdapter.send\u001b[0;34m(self, request, stream, timeout, verify, cert, proxies)\u001b[0m\n\u001b[1;32m    550\u001b[0m \u001b[39mif\u001b[39;00m \u001b[39misinstance\u001b[39m(e\u001b[39m.\u001b[39mreason, ConnectTimeoutError):\n\u001b[1;32m    551\u001b[0m     \u001b[39m# TODO: Remove this in 3.0.0: see #2811\u001b[39;00m\n\u001b[1;32m    552\u001b[0m     \u001b[39mif\u001b[39;00m \u001b[39mnot\u001b[39;00m \u001b[39misinstance\u001b[39m(e\u001b[39m.\u001b[39mreason, NewConnectionError):\n\u001b[0;32m--> 553\u001b[0m         \u001b[39mraise\u001b[39;00m ConnectTimeout(e, request\u001b[39m=\u001b[39mrequest)\n\u001b[1;32m    555\u001b[0m \u001b[39mif\u001b[39;00m \u001b[39misinstance\u001b[39m(e\u001b[39m.\u001b[39mreason, ResponseError):\n\u001b[1;32m    556\u001b[0m     \u001b[39mraise\u001b[39;00m RetryError(e, request\u001b[39m=\u001b[39mrequest)\n",
      "\u001b[0;31mConnectTimeout\u001b[0m: HTTPSConnectionPool(host='finance.yahoo.com', port=443): Max retries exceeded with url: /quote/ZS (Caused by ConnectTimeoutError(<urllib3.connection.HTTPSConnection object at 0x157731180>, 'Connection to finance.yahoo.com timed out. (connect timeout=30)'))"
     ]
    }
   ],
   "source": [
    "import yfinance as yf\n",
    "import pandas as pd\n",
    "\n",
    "# Define the quality factor using return on equity (ROE)\n",
    "quality_threshold = 0.15\n",
    "\n",
    "# Define the momentum factor using 12-month returns\n",
    "momentum_period = 12\n",
    "\n",
    "# Define the minimum market cap for screening\n",
    "min_market_cap = 500000000\n",
    "\n",
    "# Download stock data from Yahoo Finance\n",
    "tickers = ['ZS', 'S', 'CRWD', 'PANW', 'FTNT', 'NET']\n",
    "ticker_objs = [yf.Ticker(ticker, session=None) for ticker in tickers] # Session is set to None to prevent yfinance from using a cached session\n",
    "\n",
    "# Filter stocks based on quality and momentum factors\n",
    "quality_scores = []\n",
    "momentum_scores = []\n",
    "for ticker_obj in ticker_objs:\n",
    "    history = ticker_obj.history(period='1y')\n",
    "    if len(history) < momentum_period:\n",
    "        continue\n",
    "    market_cap = ticker_obj.info['marketCap']\n",
    "    if market_cap < min_market_cap:\n",
    "        continue\n",
    "    roe = history['Close'].iloc[-1] / history['Close'].iloc[0] - 1\n",
    "    if roe < quality_threshold:\n",
    "        continue\n",
    "    momentum = history['Close'].iloc[-1] / history['Close'].iloc[-momentum_period - 1] - 1\n",
    "    quality_scores.append(roe)\n",
    "    momentum_scores.append(momentum)\n",
    "\n",
    "# Generate a ranking of the top stocks based on quality and momentum scores\n",
    "ranking = pd.DataFrame({'quality': quality_scores, 'momentum': momentum_scores})\n",
    "ranking['score'] = ranking['quality'] * ranking['momentum']\n",
    "ranking = ranking.sort_values('score', ascending=False)\n",
    "\n",
    "# Print the top 5 stocks based on the ranking\n",
    "for i, ticker in enumerate(ranking.index[:5]):\n",
    "    print(f\"{i + 1}. {ticker}: {ranking.loc[ticker, 'score']}\")\n"
   ]
  },
  {
   "attachments": {},
   "cell_type": "markdown",
   "metadata": {},
   "source": [
    "## Disclaimer\n",
    "\n",
    "### This is meant for educational purposes and is not to be construed as any form of financial advice. Please conduct your own research and due diligence before trading/investing in the financial markets. All investments are subject to market risk and other risks."
   ]
  },
  {
   "attachments": {},
   "cell_type": "markdown",
   "metadata": {},
   "source": [
    "Prepared by Gaurav Mehta for finding practical applications from the Subject, \"Strategic Financial Management\" of the Chartered Accountancy (CA) Syllabus at the Final Level as well as to practically calculate the various ratios, models, etc from the syllabus of the \"Chartered Financial Analyst (CFA) L1 and L2 examination\". "
   ]
  }
 ],
 "metadata": {
  "kernelspec": {
   "display_name": "ds310",
   "language": "python",
   "name": "python3"
  },
  "language_info": {
   "codemirror_mode": {
    "name": "ipython",
    "version": 3
   },
   "file_extension": ".py",
   "mimetype": "text/x-python",
   "name": "python",
   "nbconvert_exporter": "python",
   "pygments_lexer": "ipython3",
   "version": "3.10.9"
  },
  "orig_nbformat": 4,
  "vscode": {
   "interpreter": {
    "hash": "9180382d1d293cd0ee174aaeeba1adef5ae9abef75c7d5ca9d9e15d507d2790d"
   }
  }
 },
 "nbformat": 4,
 "nbformat_minor": 2
}
